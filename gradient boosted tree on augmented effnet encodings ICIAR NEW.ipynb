{
 "cells": [
  {
   "cell_type": "code",
   "execution_count": 11,
   "id": "df584018",
   "metadata": {},
   "outputs": [],
   "source": [
    "#!pip install xgboost"
   ]
  },
  {
   "cell_type": "code",
   "execution_count": 2,
   "id": "fcf38a7a",
   "metadata": {},
   "outputs": [],
   "source": [
    "import os\n",
    "import torch\n",
    "\n",
    "\n",
    "descriptor_dir = \"data/ICIAR2018_BACH_Challenge/Photos/A1_brightness_aug_prepost_norm_3norm_effnet_descriptors\"\n",
    "\n",
    "def check_for_nans(directory):\n",
    "    for root, dirs, files in os.walk(directory):\n",
    "        for file in files:\n",
    "            # Check if file is a PyTorch tensor file\n",
    "            #if file.endswith(\".pt\"):\n",
    "            # Load PyTorch tensor from file\n",
    "            tensor = torch.load(os.path.join(root, file))\n",
    "            # Check if tensor contains NaN values\n",
    "            if torch.isnan(tensor).any():\n",
    "                print(f\"File {os.path.join(root, file)} contains NaN values\")\n",
    "                \n",
    "                \n",
    "# check_for_nans(f\"{descriptor_dir}/Normal\")"
   ]
  },
  {
   "cell_type": "code",
   "execution_count": 4,
   "id": "6c358b3e",
   "metadata": {},
   "outputs": [
    {
     "name": "stdout",
     "output_type": "stream",
     "text": [
      "['059', '049', '056', '037', '065', '002', '071', '071', '100', '092', '043', '016', '007', '019', '050', '081', '060', '075', '032', '003', '015', '035', '013', '039', '088']\n"
     ]
    }
   ],
   "source": [
    "import random\n",
    "\n",
    "random.seed(666)\n",
    "\n",
    "# Generate 25 random numbers between 1 and 100\n",
    "numbers = [random.randint(1, 100) for _ in range(25)]\n",
    "\n",
    "# Pad each number with leading zeros to make them all the same length\n",
    "test_numbers = [str(num).zfill(3) for num in numbers]\n",
    "\n",
    "print(test_numbers)"
   ]
  },
  {
   "cell_type": "code",
   "execution_count": 12,
   "id": "4188240a",
   "metadata": {},
   "outputs": [],
   "source": [
    "# /data/ICIAR2018_BACH_Challenge/Photos/A1_brightness_aug_prepost_norm_3norm_effnet_descriptors\n",
    "import numpy as np \n",
    "import matplotlib.pyplot as plt\n",
    "import glob\n",
    "import cv2\n",
    "import torch\n",
    "from pathlib import Path\n",
    "\n",
    "import os\n",
    "import seaborn as sns\n",
    "\n",
    "\n",
    "#Capture training data and labels into respective lists\n",
    "train_images = []\n",
    "train_labels = [] \n",
    "test_images = []\n",
    "test_labels = []\n",
    "\n",
    "labels = {\"Invasive\":1, \"Benign\": 0, \"Normal\": 0, \"InSitu\":1}\n",
    "\n",
    "directory_paths = [\"data/ICIAR2018_BACH_CHALLENGE/Photos/Normal_descriptors\", \"data/ICIAR2018_BACH_CHALLENGE/Photos/Benign_descriptors\", \"data/ICIAR2018_BACH_CHALLENGE/Photos/InSitu_descriptors\", \"data/ICIAR2018_BACH_CHALLENGE/Photos/Invasive_descriptors\"]\n",
    "directory_paths = [str(Path(p)) for p in directory_paths]\n",
    "directory_labels = [\"Normal\", \"Benign\", \"InSitu\", \"Invasive\"]\n",
    "\n",
    "for directory_path, directory_label in zip(directory_paths, directory_labels):\n",
    "    for img_path in glob.glob(os.path.join(directory_path, \"*\")):\n",
    "        descriptor_tensor = torch.load(img_path).flatten()\n",
    "        orig_file_name = Path(img_path).name.split(\"_\")[0]\n",
    "        if any(num in orig_file_name for num in test_numbers): # if part of test set. Have to do it like this because there are 10 augmentations of each img\n",
    "            if \"1.1033333539962769\" in img_path: # this should just be a 1 if encodings included a brightness of factor 1 which it should but doesnt\n",
    "#                 print(img_path)\n",
    "                test_images.append(descriptor_tensor)\n",
    "                test_labels.append(labels[directory_label])\n",
    "        else: # if not part of test set \n",
    "            train_images.append(descriptor_tensor)\n",
    "            train_labels.append(labels[directory_label])\n",
    "\n",
    "#Convert lists to arrays        \n",
    "train_images_non_shuffled = torch.stack(train_images, dim=0)\n",
    "train_labels_non_shuffled = torch.tensor(train_labels)\n",
    "\n",
    "test_images = torch.stack(test_images, dim=0)\n",
    "test_labels = torch.tensor(test_labels)\n",
    "\n",
    "\n",
    "# shuffle\n",
    "num_samples = len(train_images_non_shuffled)\n",
    "perm = torch.randperm(num_samples)\n",
    "\n",
    "train_images = train_images_non_shuffled[perm]\n",
    "train_labels = train_labels_non_shuffled[perm]"
   ]
  },
  {
   "cell_type": "code",
   "execution_count": 39,
   "id": "122c3dda",
   "metadata": {},
   "outputs": [
    {
     "name": "stdout",
     "output_type": "stream",
     "text": [
      "1520/3040\n"
     ]
    }
   ],
   "source": [
    "print(f\"{train_labels.sum()}/{len(train_labels)}\")"
   ]
  },
  {
   "cell_type": "code",
   "execution_count": 40,
   "id": "982551dc",
   "metadata": {},
   "outputs": [
    {
     "name": "stdout",
     "output_type": "stream",
     "text": [
      "Accuracy =  0.9375\n",
      "F1 =  0.9387755102040817\n",
      "CM: \n",
      "[[44  4]\n",
      " [ 2 46]]\n"
     ]
    }
   ],
   "source": [
    "#XGBOOST\n",
    "import xgboost as xgb\n",
    "model = xgb.XGBClassifier()\n",
    "model.fit(train_images, train_labels) #For sklearn no one hot encoding\n",
    "\n",
    "#Now predict using the trained RF model. \n",
    "prediction = model.predict(test_images)\n",
    "#Print overall accuracy\n",
    "from sklearn import metrics\n",
    "from sklearn.metrics import confusion_matrix\n",
    "print (\"Accuracy = \", metrics.accuracy_score(test_labels, prediction))\n",
    "print (\"F1 = \", metrics.f1_score(test_labels, prediction))\n",
    "print (\"CM: \")\n",
    "print(confusion_matrix(test_labels, prediction))"
   ]
  },
  {
   "attachments": {},
   "cell_type": "markdown",
   "id": "6e26407e",
   "metadata": {},
   "source": [
    "# Trying to cut positive class in half in the training set and see what happens"
   ]
  },
  {
   "cell_type": "code",
   "execution_count": 33,
   "id": "cb669cc8",
   "metadata": {},
   "outputs": [
    {
     "name": "stdout",
     "output_type": "stream",
     "text": [
      "760/2280\n",
      "380/1900\n"
     ]
    }
   ],
   "source": [
    "# FIRST HALF OF train_labels_non_shuffled is positive, second half is negative... \n",
    "train_images_non_shuffled_onlypos = train_images_non_shuffled[train_labels_non_shuffled==1]\n",
    "train_labels_non_shuffled_onlypos = train_labels_non_shuffled[train_labels_non_shuffled==1]\n",
    "\n",
    "train_images_non_shuffled_onlyneg = train_images_non_shuffled[train_labels_non_shuffled==0]\n",
    "train_labels_non_shuffled_onlyneg = train_labels_non_shuffled[train_labels_non_shuffled==0]\n",
    "\n",
    "def get_halved(train_images_non_shuffled_onlypos, train_labels_non_shuffled_onlypos):\n",
    "    new_train_images = []\n",
    "    new_train_labels = []\n",
    "    for _, i in enumerate(range(0, len(train_images_non_shuffled_onlypos), 10)):\n",
    "        if _ % 2 == 0: continue # skip every other one\n",
    "        # print(\"slice: [\", i-10, \":\", i, \"]\")\n",
    "        new_train_images += train_images_non_shuffled_onlypos[i-10:i]\n",
    "        new_train_labels += train_labels_non_shuffled_onlypos[i-10:i]\n",
    "\n",
    "    new_train_images = torch.stack(new_train_images, dim=0)\n",
    "    new_train_labels = torch.stack(new_train_labels, dim=0)\n",
    "\n",
    "    return new_train_images, new_train_labels\n",
    "\n",
    "a, b = get_halved(train_images_non_shuffled_onlypos, train_labels_non_shuffled_onlypos)\n",
    "\n",
    "# concat a with train_images_non_shuffled_onlyneg\n",
    "train_images_pos_halved = torch.cat((a, train_images_non_shuffled_onlyneg), dim=0)\n",
    "train_labels_pos_halved = torch.cat((b, train_labels_non_shuffled_onlyneg), dim=0)\n",
    "\n",
    "# shuffle\n",
    "num_samples = len(train_images_pos_halved)\n",
    "perm = torch.randperm(num_samples)\n",
    "\n",
    "train_images_pos_halved = train_images_pos_halved[perm]\n",
    "train_labels_pos_halved = train_labels_pos_halved[perm]\n",
    "\n",
    "# halve again \n",
    "a, b = get_halved(a, b)\n",
    "train_images_pos_quartered = torch.cat((a, train_images_non_shuffled_onlyneg), dim=0)\n",
    "train_labels_pos_quartered = torch.cat((b, train_labels_non_shuffled_onlyneg), dim=0)\n",
    "\n",
    "print(f\"{train_labels_pos_halved.sum()}/{len(train_labels_pos_halved)}\")     \n",
    "print(f\"{train_labels_pos_quartered.sum()}/{len(train_labels_pos_quartered)}\")     \n",
    "\n",
    "# shuffle\n",
    "num_samples = len(train_images_pos_quartered)\n",
    "perm = torch.randperm(num_samples)\n",
    "\n",
    "train_images_pos_quartered = train_images_pos_quartered[perm]\n",
    "train_labels_pos_quartered = train_labels_pos_quartered[perm]\n"
   ]
  },
  {
   "cell_type": "code",
   "execution_count": 34,
   "id": "d31a2d46",
   "metadata": {},
   "outputs": [
    {
     "name": "stdout",
     "output_type": "stream",
     "text": [
      "Accuracy =  0.8958333333333334\n",
      "F1 =  0.8913043478260869\n",
      "CM: \n",
      "[[45  3]\n",
      " [ 7 41]]\n"
     ]
    }
   ],
   "source": [
    "#XGBOOST\n",
    "import xgboost as xgb\n",
    "model = xgb.XGBClassifier()\n",
    "model.fit(train_images_pos_halved, train_labels_pos_halved) #For sklearn no one hot encoding\n",
    "\n",
    "#Now predict using the trained RF model. \n",
    "prediction = model.predict(test_images)\n",
    "#Print overall accuracy\n",
    "from sklearn import metrics\n",
    "from sklearn.metrics import confusion_matrix\n",
    "print (\"Accuracy = \", metrics.accuracy_score(test_labels, prediction))\n",
    "print (\"F1 = \", metrics.f1_score(test_labels, prediction))\n",
    "print (\"CM: \")\n",
    "print(confusion_matrix(test_labels, prediction))"
   ]
  },
  {
   "cell_type": "code",
   "execution_count": 35,
   "id": "61bd6662",
   "metadata": {},
   "outputs": [
    {
     "name": "stdout",
     "output_type": "stream",
     "text": [
      "Accuracy =  0.8229166666666666\n",
      "F1 =  0.7951807228915663\n",
      "CM: \n",
      "[[46  2]\n",
      " [15 33]]\n"
     ]
    }
   ],
   "source": [
    "#XGBOOST\n",
    "import xgboost as xgb\n",
    "model = xgb.XGBClassifier()\n",
    "model.fit(train_images_pos_quartered, train_labels_pos_quartered) #For sklearn no one hot encoding\n",
    "\n",
    "#Now predict using the trained RF model. \n",
    "prediction = model.predict(test_images)\n",
    "#Print overall accuracy\n",
    "from sklearn import metrics\n",
    "from sklearn.metrics import confusion_matrix\n",
    "print (\"Accuracy = \", metrics.accuracy_score(test_labels, prediction))\n",
    "print (\"F1 = \", metrics.f1_score(test_labels, prediction))\n",
    "print (\"CM: \")\n",
    "print(confusion_matrix(test_labels, prediction))"
   ]
  },
  {
   "cell_type": "code",
   "execution_count": null,
   "id": "28a46c1b",
   "metadata": {},
   "outputs": [],
   "source": []
  }
 ],
 "metadata": {
  "kernelspec": {
   "display_name": "Python 3 (ipykernel)",
   "language": "python",
   "name": "python3"
  },
  "language_info": {
   "codemirror_mode": {
    "name": "ipython",
    "version": 3
   },
   "file_extension": ".py",
   "mimetype": "text/x-python",
   "name": "python",
   "nbconvert_exporter": "python",
   "pygments_lexer": "ipython3",
   "version": "3.9.7"
  }
 },
 "nbformat": 4,
 "nbformat_minor": 5
}
