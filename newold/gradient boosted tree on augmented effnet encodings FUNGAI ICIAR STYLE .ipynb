{
 "cells": [
  {
   "cell_type": "code",
   "execution_count": 125,
   "id": "6f041f68",
   "metadata": {},
   "outputs": [
    {
     "name": "stdout",
     "output_type": "stream",
     "text": [
      "20400\n"
     ]
    }
   ],
   "source": [
    "import os\n",
    "import glob\n",
    "\n",
    "example_aug_tensor_name = \"187524_1_5dff_9088_6592_touchcount_0_brightened_1.0844444036483765.pt\"\n",
    "\n",
    "path = \"/home/FungAI/notebooks/paint_annos/anno_crops_encodings_stacked_iciarstyle\"  \n",
    "pt_files = os.listdir(path)  \n",
    "pt_files = [f\"{path}/{pt_file}\" for pt_file in pt_files]\n",
    "print(len(pt_files))"
   ]
  },
  {
   "cell_type": "code",
   "execution_count": 167,
   "id": "d124e27a",
   "metadata": {},
   "outputs": [],
   "source": [
    "# CLEAN pt files, because they all have touchcount_0_ because some mistake... So I need to match all of them up with the \n",
    "# files in /home/FungAI/notebooks/paint_annos/anno_crops_encodings_stacked_iciarstyle that have a A_ and give the correct touchcount\n",
    "from pathlib import Path\n",
    "import re \n",
    "\n",
    "def get_sagsinfo_and_crop_coords(string):\n",
    "    if string[:2] == \"A_\": string = string[2:]\n",
    "    sagsinfo_crop = string.split(\"_\")[:5] # e.g. '186962_1_1dff_18176_16480'\n",
    "    idx = \"_\".join(sagsinfo_crop)\n",
    "    return idx\n",
    "\n",
    "def get_dict_of_touchcounts(masks):\n",
    "    touchcount_dict = {}\n",
    "    for mask in masks: \n",
    "        maskname = Path(mask).name\n",
    "        if \"A_\" not in maskname: continue\n",
    "        idx = get_sagsinfo_and_crop_coords(maskname)\n",
    "        touchcount = maskname[2:].split(\"_\")[6]\n",
    "        touchcount_dict[idx] = maskname[2:].split(\"_\")[6].split(\".\")[0]\n",
    "    return touchcount_dict \n",
    "\n",
    "def get_touchcount_from_encodingspath(string):\n",
    "    match = re.search(r\"touchcount_(\\d+)_\", string)\n",
    "    if match: return (match.group(1))\n",
    "    else: return False\n",
    "    \n",
    "\n",
    "\n",
    "path = \"/home/FungAI/notebooks/paint_annos/anno_crops\" \n",
    "masks = os.listdir(path)  \n",
    "masks = [f\"{path}/{mask}\" for mask in masks]\n",
    "\n",
    "touchcount_dict = get_dict_of_touchcounts(masks)"
   ]
  },
  {
   "cell_type": "code",
   "execution_count": 170,
   "id": "d1696427",
   "metadata": {},
   "outputs": [
    {
     "data": {
      "image/png": "[encoded data removed]",
      "text/plain": [
       "<Figure size 1296x432 with 1 Axes>"
      ]
     },
     "metadata": {
      "needs_background": "light"
     },
     "output_type": "display_data"
    }
   ],
   "source": [
    "import matplotlib.pyplot as plt\n",
    "\n",
    "# create a dictionary with some values\n",
    "my_dict = touchcount_dict\n",
    "\n",
    "# extract the values from the dictionary\n",
    "values = list(my_dict.values())\n",
    "values = [int(v) for v in values]\n",
    "values = sorted(values, key=int)\n",
    "\n",
    "values = [v for v in values if v > 0]\n",
    "\n",
    "plt.figure(figsize=(18, 6))\n",
    "# plot the histogram of the values\n",
    "plt.hist(values, bins=150, edgecolor='black')\n",
    "\n",
    "plt.xticks(range(0, max(values)+10, 10))\n",
    "\n",
    "# add labels and title\n",
    "plt.xlabel('Touch count')\n",
    "plt.ylabel('Frequency')\n",
    "plt.title('Histogram of non-zero touch counts')\n",
    "\n",
    "# show the plot\n",
    "plt.show()"
   ]
  },
  {
   "cell_type": "code",
   "execution_count": 159,
   "id": "2d755d02",
   "metadata": {},
   "outputs": [],
   "source": [
    "# there are 10 brightness augmentations per crop. The test set should only include the brightness closest to 1, and not\n",
    "# the other augmentations. So sort the crops\n",
    "\n",
    "def get_sublists_of_10(lst):\n",
    "    n = len(lst)\n",
    "    slices = []\n",
    "    for i in range(0, n, 10):\n",
    "        slices.append(lst[i:i+10])\n",
    "    return slices\n",
    "\n",
    "pt_files.sort()\n",
    "crops = get_sublists_of_10(pt_files)\n",
    "\n",
    "# shuffle \n",
    "import random\n",
    "random.seed(666)\n",
    "random.shuffle(crops)"
   ]
  },
  {
   "cell_type": "code",
   "execution_count": 160,
   "id": "281def56",
   "metadata": {},
   "outputs": [
    {
     "name": "stdout",
     "output_type": "stream",
     "text": [
      "510\n",
      "1530\n"
     ]
    }
   ],
   "source": [
    "a = int(len(crops) * 0.25)\n",
    "\n",
    "test_crops = crops[:a]\n",
    "train_crops = crops[a:]\n",
    "\n",
    "print(len(test_crops))\n",
    "print(len(train_crops))"
   ]
  },
  {
   "cell_type": "code",
   "execution_count": 161,
   "id": "85ce2ea4",
   "metadata": {},
   "outputs": [],
   "source": [
    "import numpy as np \n",
    "import matplotlib.pyplot as plt\n",
    "import glob\n",
    "import cv2\n",
    "import torch\n",
    "from pathlib import Path\n",
    "\n",
    "def getTrainTestTensorsAndLabels(positive_threshold, train_crops, test_crops):\n",
    "    #Capture training data and labels into respective lists\n",
    "    train_images = []\n",
    "    train_labels = [] \n",
    "    test_images = []\n",
    "    test_labels = []\n",
    "\n",
    "    for crop_augs in train_crops: \n",
    "        for crop in crop_augs:\n",
    "            cropname = Path(crop).name\n",
    "            descriptor_tensor = torch.load(crop).flatten()\n",
    "            train_images.append(descriptor_tensor)\n",
    "            touchcount = int(touchcount_dict[get_sagsinfo_and_crop_coords(cropname)])\n",
    "            if touchcount >= positive_threshold: train_labels.append(1)\n",
    "            else: train_labels.append(0)\n",
    "\n",
    "    for crop_augs in test_crops: \n",
    "        for crop in crop_augs:\n",
    "            cropname = Path(crop).name\n",
    "            if \"10844444036483765\" not in cropname: continue # this is the brightness value closest to 1... Not perfect, but I'm an idiot\n",
    "            descriptor_tensor = torch.load(crop).flatten()\n",
    "            test_images.append(descriptor_tensor)\n",
    "            touchcount = int(touchcount_dict[get_sagsinfo_and_crop_coords(cropname)])\n",
    "            if touchcount >= positive_threshold: test_labels.append(1)\n",
    "            else: test_labels.append(0)\n",
    "\n",
    "    #Convert lists to arrays        \n",
    "    train_images = torch.stack(train_images, dim=0)\n",
    "    train_labels = torch.tensor(train_labels)\n",
    "    \n",
    "    assert train_labels.sum() > 0\n",
    "\n",
    "    test_images = torch.stack(test_images, dim=0)\n",
    "    test_labels = torch.tensor(test_labels)\n",
    "    \n",
    "    assert test_labels.sum() > 0\n",
    "    \n",
    "    return train_images, train_labels, test_images, test_labels"
   ]
  },
  {
   "cell_type": "code",
   "execution_count": 162,
   "id": "c8e55596",
   "metadata": {},
   "outputs": [],
   "source": [
    "#XGBOOST\n",
    "import xgboost as xgb\n",
    "import time \n",
    "\n",
    "def train_and_get_test_metrics(train_images, train_labels, test_images, test_labels):\n",
    "    model = xgb.XGBClassifier()\n",
    "\n",
    "    start_time = time.perf_counter()\n",
    "\n",
    "    model.fit(train_images, train_labels) #For sklearn no one hot encoding\n",
    "\n",
    "    end_time = time.perf_counter()\n",
    "\n",
    "    elapsed_time = end_time - start_time\n",
    "    print(f\"Training time: {elapsed_time:.6f} seconds\")\n",
    "    \n",
    "    #Now predict using the trained RF model. \n",
    "    prediction = model.predict(test_images)\n",
    "    #Print overall accuracy\n",
    "    #Print overall accuracy\n",
    "    from sklearn import metrics\n",
    "    from sklearn.metrics import confusion_matrix\n",
    "    print (\"Accuracy = \", metrics.accuracy_score(test_labels, prediction))\n",
    "    print (\"F1 = \", metrics.f1_score(test_labels, prediction))\n",
    "    print (\"CM: \")\n",
    "    print(confusion_matrix(test_labels, prediction))\n",
    "    return model\n",
    "    \n",
    "def train_and_get_test_metrics_of_threshold(positive_threshold, train_crops, test_crops):\n",
    "    train_images, train_labels, test_images, test_labels = getTrainTestTensorsAndLabels(positive_threshold, train_crops, test_crops)\n",
    "    model = train_and_get_test_metrics(train_images, train_labels, test_images, test_labels)\n",
    "    return model\n",
    "\n"
   ]
  },
  {
   "cell_type": "code",
   "execution_count": 164,
   "id": "ec5ba165",
   "metadata": {},
   "outputs": [
    {
     "name": "stdout",
     "output_type": "stream",
     "text": [
      "------ training and testing with touch_count threshold  1\n",
      "Training time: 242.914921 seconds\n",
      "Accuracy =  0.9117647058823529\n",
      "F1 =  0.41558441558441556\n",
      "CM: \n",
      "[[449  12]\n",
      " [ 33  16]]\n",
      "******\n",
      "------ training and testing with touch_count threshold  2\n",
      "Training time: 240.280061 seconds\n",
      "Accuracy =  0.9254901960784314\n",
      "F1 =  0.4571428571428571\n",
      "CM: \n",
      "[[456   7]\n",
      " [ 31  16]]\n",
      "******\n",
      "------ training and testing with touch_count threshold  3\n",
      "Training time: 240.624733 seconds\n",
      "Accuracy =  0.9176470588235294\n",
      "F1 =  0.4166666666666667\n",
      "CM: \n",
      "[[453  12]\n",
      " [ 30  15]]\n",
      "******\n",
      "------ training and testing with touch_count threshold  4\n",
      "Training time: 232.041518 seconds\n",
      "Accuracy =  0.9294117647058824\n",
      "F1 =  0.4705882352941177\n",
      "CM: \n",
      "[[458   9]\n",
      " [ 27  16]]\n",
      "******\n",
      "------ training and testing with touch_count threshold  5\n",
      "Training time: 237.405055 seconds\n",
      "Accuracy =  0.9274509803921569\n",
      "F1 =  0.4307692307692308\n",
      "CM: \n",
      "[[459   9]\n",
      " [ 28  14]]\n",
      "******\n",
      "------ training and testing with touch_count threshold  6\n",
      "Training time: 227.602737 seconds\n",
      "Accuracy =  0.9294117647058824\n",
      "F1 =  0.47058823529411764\n",
      "CM: \n",
      "[[458  11]\n",
      " [ 25  16]]\n",
      "******\n",
      "------ training and testing with touch_count threshold  7\n",
      "Training time: 222.680542 seconds\n",
      "Accuracy =  0.9372549019607843\n",
      "F1 =  0.4838709677419355\n",
      "CM: \n",
      "[[463   8]\n",
      " [ 24  15]]\n",
      "******\n",
      "------ training and testing with touch_count threshold  8\n",
      "Training time: 222.413797 seconds\n",
      "Accuracy =  0.9372549019607843\n",
      "F1 =  0.42857142857142855\n",
      "CM: \n",
      "[[466   6]\n",
      " [ 26  12]]\n",
      "******\n",
      "------ training and testing with touch_count threshold  9\n",
      "Training time: 220.855456 seconds\n",
      "Accuracy =  0.9294117647058824\n",
      "F1 =  0.39999999999999997\n",
      "CM: \n",
      "[[462  10]\n",
      " [ 26  12]]\n",
      "******\n"
     ]
    }
   ],
   "source": [
    "for i in range(1,10):\n",
    "    print(\"------ training and testing with touch_count threshold \", i)\n",
    "    train_and_get_test_metrics_of_threshold(i, train_crops, test_crops)\n",
    "    print(\"******\")"
   ]
  },
  {
   "cell_type": "markdown",
   "id": "8cb3ae67",
   "metadata": {},
   "source": [
    "## TRY BALANCING THE CLASSES! "
   ]
  },
  {
   "cell_type": "markdown",
   "id": "80094cd7",
   "metadata": {},
   "source": [
    "## ALL INCORRECT GUESSES WERE POS... MAYBE SHOW THE ORIGINALS TO SEE IF THEY HAVE SMTH IN COMMON"
   ]
  },
  {
   "cell_type": "code",
   "execution_count": 115,
   "id": "98e36e7b",
   "metadata": {},
   "outputs": [
    {
     "name": "stdout",
     "output_type": "stream",
     "text": [
      "tensor([ 27,  31,  62,  92, 102, 103, 109, 117, 120, 122, 125, 129, 134, 147,\n",
      "        148, 163, 168, 175, 185, 210, 226, 240, 248, 272, 275, 277, 286, 288,\n",
      "        291, 294, 320, 326, 338, 355, 358, 377, 401, 414, 418, 426, 439, 441,\n",
      "        447, 459, 474])\n"
     ]
    }
   ],
   "source": [
    "indices_incorrectly_classified = (test_labels != torch.from_numpy(prediction)).nonzero().flatten()\n",
    "print(indices_incorrectly_classified)"
   ]
  },
  {
   "cell_type": "code",
   "execution_count": 116,
   "id": "2ffc254e",
   "metadata": {},
   "outputs": [],
   "source": [
    "a = test_labels\n",
    "b = torch.from_numpy(prediction)\n",
    "\n",
    "indices = torch.nonzero((a == 1) & (b == 0))\n",
    "\n",
    "# Get the elements where a has 1 and b has 0\n",
    "elements = a[indices]"
   ]
  },
  {
   "cell_type": "code",
   "execution_count": 118,
   "id": "39b1676f",
   "metadata": {},
   "outputs": [
    {
     "data": {
      "text/plain": [
       "tensor(33)"
      ]
     },
     "execution_count": 118,
     "metadata": {},
     "output_type": "execute_result"
    }
   ],
   "source": [
    "elements.sum()"
   ]
  },
  {
   "cell_type": "code",
   "execution_count": 123,
   "id": "de8fba8f",
   "metadata": {},
   "outputs": [
    {
     "data": {
      "text/plain": [
       "28"
      ]
     },
     "execution_count": 123,
     "metadata": {},
     "output_type": "execute_result"
    }
   ],
   "source": [
    "len(prediction)\n",
    "sum(prediction)"
   ]
  },
  {
   "cell_type": "code",
   "execution_count": null,
   "id": "1769485d",
   "metadata": {},
   "outputs": [],
   "source": []
  }
 ],
 "metadata": {
  "kernelspec": {
   "display_name": "Python 3 (ipykernel)",
   "language": "python",
   "name": "python3"
  },
  "language_info": {
   "codemirror_mode": {
    "name": "ipython",
    "version": 3
   },
   "file_extension": ".py",
   "mimetype": "text/x-python",
   "name": "python",
   "nbconvert_exporter": "python",
   "pygments_lexer": "ipython3",
   "version": "3.8.13"
  }
 },
 "nbformat": 4,
 "nbformat_minor": 5
}
