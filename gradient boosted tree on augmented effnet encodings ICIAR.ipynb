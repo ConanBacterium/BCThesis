{
 "cells": [
  {
   "cell_type": "code",
   "execution_count": 11,
   "id": "df584018",
   "metadata": {},
   "outputs": [],
   "source": [
    "#!pip install xgboost"
   ]
  },
  {
   "cell_type": "code",
   "execution_count": 2,
   "id": "fcf38a7a",
   "metadata": {},
   "outputs": [],
   "source": [
    "import os\n",
    "import torch\n",
    "\n",
    "\n",
    "descriptor_dir = \"data/ICIAR2018_BACH_Challenge/Photos/A1_brightness_aug_prepost_norm_3norm_effnet_descriptors\"\n",
    "\n",
    "def check_for_nans(directory):\n",
    "    for root, dirs, files in os.walk(directory):\n",
    "        for file in files:\n",
    "            # Check if file is a PyTorch tensor file\n",
    "            #if file.endswith(\".pt\"):\n",
    "            # Load PyTorch tensor from file\n",
    "            tensor = torch.load(os.path.join(root, file))\n",
    "            # Check if tensor contains NaN values\n",
    "            if torch.isnan(tensor).any():\n",
    "                print(f\"File {os.path.join(root, file)} contains NaN values\")\n",
    "                \n",
    "                \n",
    "check_for_nans(f\"{descriptor_dir}/Normal\")"
   ]
  },
  {
   "cell_type": "code",
   "execution_count": 3,
   "id": "6c358b3e",
   "metadata": {},
   "outputs": [
    {
     "name": "stdout",
     "output_type": "stream",
     "text": [
      "['059', '049', '056', '037', '065', '002', '071', '071', '100', '092', '043', '016', '007', '019', '050', '081', '060', '075', '032', '003', '015', '035', '013', '039', '088']\n"
     ]
    }
   ],
   "source": [
    "import random\n",
    "\n",
    "random.seed(666)\n",
    "\n",
    "# Generate 25 random numbers between 1 and 100\n",
    "numbers = [random.randint(1, 100) for _ in range(25)]\n",
    "\n",
    "# Pad each number with leading zeros to make them all the same length\n",
    "test_numbers = [str(num).zfill(3) for num in numbers]\n",
    "\n",
    "print(test_numbers)"
   ]
  },
  {
   "cell_type": "code",
   "execution_count": 12,
   "id": "4188240a",
   "metadata": {},
   "outputs": [
    {
     "name": "stdout",
     "output_type": "stream",
     "text": [
      "['Invasive', 'GENERATOR_SCRIPT.py', 'Benign', 'InSitu', 'Normal']\n"
     ]
    }
   ],
   "source": [
    "# /data/ICIAR2018_BACH_Challenge/Photos/A1_brightness_aug_prepost_norm_3norm_effnet_descriptors\n",
    "import numpy as np \n",
    "import matplotlib.pyplot as plt\n",
    "import glob\n",
    "import cv2\n",
    "import torch\n",
    "from pathlib import Path\n",
    "\n",
    "import os\n",
    "import seaborn as sns\n",
    "\n",
    "descriptor_dir = \"data/ICIAR2018_BACH_Challenge/Photos/A1_brightness_aug_prepost_norm_3norm_effnet_descriptors\"\n",
    "\n",
    "# Read input images and assign labels based on folder names\n",
    "print(os.listdir(descriptor_dir))\n",
    "\n",
    "#Capture training data and labels into respective lists\n",
    "train_images = []\n",
    "train_labels = [] \n",
    "test_images = []\n",
    "test_labels = []\n",
    "\n",
    "labels = {\"Invasive\":1, \"Benign\": 0, \"Normal\": 0, \"InSitu\":1}\n",
    "# labels = {\"Invasive\":0, \"Benign\": 1, \"Normal\": 2, \"InSitu\":3}\n",
    "\n",
    "for directory_path in glob.glob(f\"{descriptor_dir}/*\"):\n",
    "    if directory_path.split(\".\")[-1] == \"py\": continue\n",
    "    label = directory_path.split(\"/\")[-1]\n",
    "    for img_path in glob.glob(os.path.join(directory_path, \"*\")):\n",
    "        descriptor_tensor = torch.load(img_path).flatten()\n",
    "        orig_file_name = Path(img_path).name.split(\"_\")[0]\n",
    "        if any(num in orig_file_name for num in test_numbers): # if part of test set. Have to do it like this because there are 15 augmentations of each img\n",
    "            if \"10199999809265137\" in img_path: # this should just be a 1 if encodings included a brightness of factor 1 which it should but doesnt\n",
    "#                 print(img_path)\n",
    "                test_images.append(descriptor_tensor)\n",
    "                test_labels.append(labels[label])\n",
    "        else: # if not part of test set \n",
    "            train_images.append(descriptor_tensor)\n",
    "            train_labels.append(labels[label])\n",
    "\n",
    "#Convert lists to arrays        \n",
    "train_images = torch.stack(train_images, dim=0)\n",
    "train_labels = torch.tensor(train_labels)\n",
    "\n",
    "test_images = torch.stack(test_images, dim=0)\n",
    "test_labels = torch.tensor(test_labels)\n",
    "\n",
    "# print(images)\n",
    "# print(labels)"
   ]
  },
  {
   "cell_type": "code",
   "execution_count": 13,
   "id": "982551dc",
   "metadata": {},
   "outputs": [
    {
     "data": {
      "text/plain": [
       "XGBClassifier(base_score=None, booster=None, callbacks=None,\n",
       "              colsample_bylevel=None, colsample_bynode=None,\n",
       "              colsample_bytree=None, early_stopping_rounds=None,\n",
       "              enable_categorical=False, eval_metric=None, feature_types=None,\n",
       "              gamma=None, gpu_id=None, grow_policy=None, importance_type=None,\n",
       "              interaction_constraints=None, learning_rate=None, max_bin=None,\n",
       "              max_cat_threshold=None, max_cat_to_onehot=None,\n",
       "              max_delta_step=None, max_depth=None, max_leaves=None,\n",
       "              min_child_weight=None, missing=nan, monotone_constraints=None,\n",
       "              n_estimators=100, n_jobs=None, num_parallel_tree=None,\n",
       "              predictor=None, random_state=None, ...)"
      ]
     },
     "execution_count": 13,
     "metadata": {},
     "output_type": "execute_result"
    }
   ],
   "source": [
    "#XGBOOST\n",
    "import xgboost as xgb\n",
    "model = xgb.XGBClassifier()\n",
    "model.fit(train_images, train_labels) #For sklearn no one hot encoding"
   ]
  },
  {
   "cell_type": "code",
   "execution_count": 14,
   "id": "cd9924d2",
   "metadata": {},
   "outputs": [
    {
     "name": "stdout",
     "output_type": "stream",
     "text": [
      "Accuracy =  0.90625\n"
     ]
    }
   ],
   "source": [
    "#Now predict using the trained RF model. \n",
    "prediction = model.predict(test_images)\n",
    "#Print overall accuracy\n",
    "from sklearn import metrics\n",
    "print (\"Accuracy = \", metrics.accuracy_score(test_labels, prediction))"
   ]
  },
  {
   "cell_type": "code",
   "execution_count": null,
   "id": "8ca94e70",
   "metadata": {},
   "outputs": [],
   "source": []
  },
  {
   "cell_type": "code",
   "execution_count": null,
   "id": "10bf9bfe",
   "metadata": {},
   "outputs": [],
   "source": []
  },
  {
   "cell_type": "code",
   "execution_count": null,
   "id": "15d97b81",
   "metadata": {},
   "outputs": [],
   "source": []
  }
 ],
 "metadata": {
  "kernelspec": {
   "display_name": "Python 3 (ipykernel)",
   "language": "python",
   "name": "python3"
  },
  "language_info": {
   "codemirror_mode": {
    "name": "ipython",
    "version": 3
   },
   "file_extension": ".py",
   "mimetype": "text/x-python",
   "name": "python",
   "nbconvert_exporter": "python",
   "pygments_lexer": "ipython3",
   "version": "3.8.13"
  }
 },
 "nbformat": 4,
 "nbformat_minor": 5
}
