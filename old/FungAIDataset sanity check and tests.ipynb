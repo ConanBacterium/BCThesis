{
 "cells": [
  {
   "cell_type": "markdown",
   "id": "da093944",
   "metadata": {},
   "source": [
    "# Test of create_balanced_splits\n",
    "Checks if there are overlaps"
   ]
  },
  {
   "cell_type": "code",
   "execution_count": null,
   "id": "9dadf7e9",
   "metadata": {
    "scrolled": false
   },
   "outputs": [
    {
     "name": "stdout",
     "output_type": "stream",
     "text": [
      "10000\n",
      "---\n",
      "10\n",
      "---\n",
      "1000\n",
      "---\n",
      "duplicates in test df: [False]\n",
      "duplicates in val df: [False]\n",
      "duplicates in train df: [False]\n",
      "---\n",
      "total: 11010 and fps_set 11010\n",
      "Len of testpos pos 114\n",
      "Len of testneg neg 886\n",
      "Len of trainpos pos 1143\n",
      "Len of trainneg neg 8857\n",
      "length of intersection: 0\n"
     ]
    }
   ],
   "source": [
    "from FungAIDataset import getFungAIDatasetSplits, create_balanced_splits\n",
    "from get_annotation_pandas_df import get_annotation_pandas_df\n",
    "from preprocessing import resize_600_no_aug_no_norm, resize_600_with_aug_no_norm\n",
    "import pandas as pd\n",
    "\n",
    "annos = get_annotation_pandas_df()\n",
    "annos.dropna(axis=0)\n",
    "train, val, test = create_balanced_splits(annos, 10000, 10, 1000)\n",
    "\n",
    "print(len(train[\"FrameIDPath\"]))\n",
    "print(\"---\")\n",
    "print(len(val[\"FrameIDPath\"]))\n",
    "print(\"---\")\n",
    "print(len(test[\"FrameIDPath\"]))\n",
    "print(\"---\")\n",
    "\n",
    "test_duplicated = test.duplicated().unique()\n",
    "print(f\"duplicates in test df: {test_duplicated}\")\n",
    "\n",
    "val_duplicated = val.duplicated().unique()\n",
    "print(f\"duplicates in val df: {val_duplicated}\")\n",
    "\n",
    "train_duplicated = train.duplicated().unique()\n",
    "print(f\"duplicates in train df: {train_duplicated}\")\n",
    "print(\"---\")\n",
    "\n",
    "total = len(train[\"FrameIDPath\"]) + len(val[\"FrameIDPath\"]) + len(test[\"FrameIDPath\"])\n",
    "fps_set = set()\n",
    "for t in train[\"FrameIDPath\"]: fps_set.add(t)\n",
    "for v in val[\"FrameIDPath\"]: fps_set.add(v)\n",
    "for t in test[\"FrameIDPath\"]: fps_set.add(t)\n",
    "\n",
    "print(f\"total: {total} and fps_set {len(fps_set)}\")\n",
    "testpos = test[\"Hyfer\"][test[\"Hyfer\"] > 0]\n",
    "testneg = test[\"Hyfer\"][test[\"Hyfer\"] == 0]\n",
    "print(f\"Len of testpos pos {len(testpos)}\")\n",
    "print(f\"Len of testneg neg {len(testneg)}\")\n",
    "\n",
    "trainpos = train[\"Hyfer\"][train[\"Hyfer\"] > 0]\n",
    "trainneg = train[\"Hyfer\"][train[\"Hyfer\"] == 0]\n",
    "print(f\"Len of trainpos pos {len(trainpos)}\")\n",
    "print(f\"Len of trainneg neg {len(trainneg)}\")\n",
    "\n",
    "intersection_df = pd.merge(train, test, on='FrameIDPath', how='inner')\n",
    "print(f\"length of intersection: {len(intersection_df)}\")\n",
    "\n",
    "\n",
    "hasDuplicates = False\n",
    "for a in train[\"FrameIDPath\"]: \n",
    "    for b in test[\"FrameIDPath\"]:\n",
    "        if a == b: hasDuplicates = True\n",
    "print(f\"hasDuplicates (going through train and test): {hasDuplicates}\")\n",
    "\n",
    "print(\"--------\")\n",
    "\n",
    "print(f\"len train {len(train['FrameIDPath'])} and len of uniques in train {len(train['FrameIDPath'].unique())}\")"
   ]
  },
  {
   "cell_type": "markdown",
   "id": "644b7a3e",
   "metadata": {},
   "source": [
    "# END OF Test of create_balanced_splits"
   ]
  }
 ],
 "metadata": {
  "kernelspec": {
   "display_name": "Python 3 (ipykernel)",
   "language": "python",
   "name": "python3"
  },
  "language_info": {
   "codemirror_mode": {
    "name": "ipython",
    "version": 3
   },
   "file_extension": ".py",
   "mimetype": "text/x-python",
   "name": "python",
   "nbconvert_exporter": "python",
   "pygments_lexer": "ipython3",
   "version": "3.8.13"
  }
 },
 "nbformat": 4,
 "nbformat_minor": 5
}
