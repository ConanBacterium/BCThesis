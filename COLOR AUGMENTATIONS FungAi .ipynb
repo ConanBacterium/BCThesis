{
 "cells": [
  {
   "cell_type": "code",
   "execution_count": 78,
   "id": "08c101c3",
   "metadata": {},
   "outputs": [],
   "source": [
    "import cv2\n",
    "from PIL import Image\n",
    "import os\n",
    "from pathlib import Path\n",
    "import torch\n",
    "import torch.nn as nn # all neural network modules, nn.Linear, nn.Conv2d, BatchNorm, Loss functions\n",
    "import torch.optim as optim # all optimization algorithms, SGD, Adam, etc.\n",
    "import torch.optim.lr_scheduler as lr_scheduler\n",
    "import torch.nn.functional as F # all functions that don't have any parameters, relu, sigmoid, softmax, etc.\n",
    "from torch.utils.data import DataLoader # gives easier dataset management and creates mini batches\n",
    "import torchvision.datasets as datasets # has standard datasets we can import in a nice way\n",
    "import torchvision.transforms as transforms # transform images, videos, etc.\n",
    "import torchvision.models as models\n",
    "import matplotlib.pyplot as plt\n",
    "from PIL import Image, ImageEnhance\n",
    "import warnings\n",
    "import numpy as np"
   ]
  },
  {
   "cell_type": "code",
   "execution_count": 131,
   "id": "b1b0584f",
   "metadata": {},
   "outputs": [],
   "source": [
    "img_title_list = [] # will contain the important images with title as tuple (img, title)\n",
    "\n",
    "factors_ = torch.linspace(0.2, 3, 30)\n",
    "factors_ = torch.cat((factors, torch.tensor([4,5,7.5,10])))\n",
    "factors_\n",
    "\n",
    "\n",
    "imgpaths = [\"/home/FungAI/Prediction/MYSQLDBIMGS/FungAIAnno/ImgFrame12878.png\",\"/home/FungAI/Prediction/MYSQLDBIMGS/FungAIAnno/ImgFrame126950.png\",\"/home/FungAI/Prediction/MYSQLDBIMGS/FungAIAnno/ImgFrame12453.png\",\"/home/FungAI/Prediction/MYSQLDBIMGS/FungAIAnno/ImgFrame250124.png\", \"/home/FungAI/Prediction/MYSQLDBIMGS/FungAIAnno/ImgFrame250142.png\"]"
   ]
  },
  {
   "cell_type": "markdown",
   "id": "ac8a7361",
   "metadata": {},
   "source": [
    "# brightness, contrast, saturation augmentations (w/o normalisation)"
   ]
  },
  {
   "cell_type": "code",
   "execution_count": 137,
   "id": "6d4bf2cd",
   "metadata": {
    "scrolled": true
   },
   "outputs": [],
   "source": [
    "normalisation_transform = transforms.Compose([transforms.ToTensor(), transforms.Normalize(mean=[0.485, 0.456, 0.406], std=[0.229, 0.224, 0.225])])\n",
    "\n",
    "def tensorToPil(pilimg):\n",
    "    img = pilimg.numpy()\n",
    "    img = (img - img.min()) / (img.max() - img.min()) * 255 # this is the magic sauce. Looks like it makes the colors a little blue??\n",
    "    img = img.astype(np.uint8)\n",
    "    img = np.transpose(img, (1,2,0))\n",
    "    img = Image.fromarray(img)\n",
    "    return img \n",
    "\n",
    "def generatePlotOfAugmentationsBrightness(tif_paths, pre_normalize, post_normalize, factors=factors_):\n",
    "    num_paths = len(tif_paths)\n",
    "    num_factors = len(factors)\n",
    "\n",
    "    # Create a figure with subplots\n",
    "    fig, axs = plt.subplots(num_factors, num_paths, figsize=(num_paths*600/100, num_factors*600/100), sharex=True, sharey=True)\n",
    "\n",
    "    for i, tif_path in enumerate(tif_paths):\n",
    "        img = Image.open(tif_path)\n",
    "        if pre_normalize:\n",
    "            img = normalisation_transform(img)\n",
    "            img = tensorToPil(img)\n",
    "        \n",
    "        filename = Path(tif_path).name.split(\".\")[0]\n",
    "\n",
    "        for j, factor in enumerate(factors): \n",
    "            brightness_enhancer = ImageEnhance.Brightness(img)\n",
    "\n",
    "            brightened_img = brightness_enhancer.enhance(factor)\n",
    "            \n",
    "            if post_normalize: \n",
    "                brightened_img = normalisation_transform(brightened_img).numpy().transpose((1,2,0))\n",
    "\n",
    "            axs[j, i].imshow(brightened_img)\n",
    "            axs[j, i].axis('off')\n",
    "            axs[j, i].set_title(f\"{filename}\\n brightness {factor}\")\n",
    "\n",
    "    if not pre_normalize and not post_normalize:\n",
    "        fig.suptitle(f\"Brightness augmentations w/o normalisation\")\n",
    "        fig.savefig('Brightnes_aug_no_norm.png', dpi=100)\n",
    "    elif not pre_normalize and post_normalize:\n",
    "        fig.suptitle(f\"Brightness augmentations w. post-normalisation\")\n",
    "        fig.savefig('Brightnes_aug_post_norm.png', dpi=100)\n",
    "    elif pre_normalize and not post_normalize:\n",
    "        fig.suptitle(f\"Brightness augmentations w. pre-normalisation\")\n",
    "        fig.savefig('Brightnes_aug_pre_norm.png', dpi=100)\n",
    "    elif pre_normalize and post_normalize:\n",
    "        fig.suptitle(f\"Brightness augmentations w. pre- and post-normalisation\")\n",
    "        fig.savefig('Brightnes_aug_pre_and_post_norm.png', dpi=100)\n",
    "    plt.close()\n",
    "#     plt.show()\n",
    "\n",
    "# # brightness augs without normalisation\n",
    "generatePlotOfAugmentationsBrightness(imgpaths, False, False)\n",
    "\n",
    "# # brightness augs with pre normalisation\n",
    "generatePlotOfAugmentationsBrightness(imgpaths, True, False)\n",
    "\n",
    "# # brightness augs with post normalisation\n",
    "generatePlotOfAugmentationsBrightness(imgpaths, False, True)\n",
    "\n",
    "# # brightness augs with pre and post normalisation\n",
    "generatePlotOfAugmentationsBrightness(imgpaths, True, True)"
   ]
  },
  {
   "cell_type": "code",
   "execution_count": null,
   "id": "64653d68",
   "metadata": {},
   "outputs": [],
   "source": []
  },
  {
   "cell_type": "code",
   "execution_count": null,
   "id": "3916329c",
   "metadata": {},
   "outputs": [],
   "source": []
  }
 ],
 "metadata": {
  "kernelspec": {
   "display_name": "Python 3 (ipykernel)",
   "language": "python",
   "name": "python3"
  },
  "language_info": {
   "codemirror_mode": {
    "name": "ipython",
    "version": 3
   },
   "file_extension": ".py",
   "mimetype": "text/x-python",
   "name": "python",
   "nbconvert_exporter": "python",
   "pygments_lexer": "ipython3",
   "version": "3.8.13"
  }
 },
 "nbformat": 4,
 "nbformat_minor": 5
}
