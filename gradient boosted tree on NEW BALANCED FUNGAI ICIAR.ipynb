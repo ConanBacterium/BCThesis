{
 "cells": [
  {
   "cell_type": "code",
   "execution_count": 1,
   "metadata": {},
   "outputs": [],
   "source": [
    "import torch\n",
    "import pickle as pkl\n",
    "from pathlib import Path"
   ]
  },
  {
   "cell_type": "code",
   "execution_count": 4,
   "metadata": {},
   "outputs": [
    {
     "name": "stdout",
     "output_type": "stream",
     "text": [
      "Defaulting to user installation because normal site-packages is not writeable\n",
      "Collecting torch-utils\n",
      "  Downloading torch-utils-0.1.2.tar.gz (4.9 kB)\n",
      "  Preparing metadata (setup.py): started\n",
      "  Preparing metadata (setup.py): finished with status 'done'\n",
      "Requirement already satisfied: torch in c:\\users\\jaro\\appdata\\roaming\\python\\python310\\site-packages (from torch-utils) (2.0.0)\n",
      "Requirement already satisfied: networkx in c:\\users\\jaro\\appdata\\roaming\\python\\python310\\site-packages (from torch->torch-utils) (3.1)\n",
      "Requirement already satisfied: sympy in c:\\users\\jaro\\appdata\\roaming\\python\\python310\\site-packages (from torch->torch-utils) (1.11.1)\n",
      "Requirement already satisfied: typing-extensions in c:\\users\\jaro\\appdata\\roaming\\python\\python310\\site-packages (from torch->torch-utils) (4.5.0)\n",
      "Requirement already satisfied: jinja2 in c:\\users\\jaro\\appdata\\roaming\\python\\python310\\site-packages (from torch->torch-utils) (3.1.2)\n",
      "Requirement already satisfied: filelock in c:\\program files\\python310\\lib\\site-packages (from torch->torch-utils) (3.6.0)\n",
      "Requirement already satisfied: MarkupSafe>=2.0 in c:\\users\\jaro\\appdata\\roaming\\python\\python310\\site-packages (from jinja2->torch->torch-utils) (2.1.2)\n",
      "Requirement already satisfied: mpmath>=0.19 in c:\\users\\jaro\\appdata\\roaming\\python\\python310\\site-packages (from sympy->torch->torch-utils) (1.3.0)\n",
      "Using legacy 'setup.py install' for torch-utils, since package 'wheel' is not installed.\n",
      "Installing collected packages: torch-utils\n",
      "  Running setup.py install for torch-utils: started\n",
      "  Running setup.py install for torch-utils: finished with status 'done'\n",
      "Successfully installed torch-utils-0.1.2\n"
     ]
    },
    {
     "name": "stderr",
     "output_type": "stream",
     "text": [
      "WARNING: You are using pip version 22.0.4; however, version 23.1.2 is available.\n",
      "You should consider upgrading via the 'C:\\Program Files\\Python310\\python.exe -m pip install --upgrade pip' command.\n"
     ]
    }
   ],
   "source": [
    "!pip install torch-utils"
   ]
  },
  {
   "attachments": {},
   "cell_type": "markdown",
   "metadata": {},
   "source": [
    "# BALANCED AT DIFFERENT THRESHOLDS "
   ]
  },
  {
   "cell_type": "code",
   "execution_count": 5,
   "metadata": {},
   "outputs": [
    {
     "ename": "ModuleNotFoundError",
     "evalue": "No module named 'torch._utils'",
     "output_type": "error",
     "traceback": [
      "\u001b[1;31m---------------------------------------------------------------------------\u001b[0m",
      "\u001b[1;31mModuleNotFoundError\u001b[0m                       Traceback (most recent call last)",
      "Cell \u001b[1;32mIn[5], line 3\u001b[0m\n\u001b[0;32m      1\u001b[0m \u001b[39mwith\u001b[39;00m \u001b[39mopen\u001b[39m((\u001b[39m\"\u001b[39m\u001b[39mdata/descriptors_dict_threshold_1_through_10.pkl\u001b[39m\u001b[39m\"\u001b[39m), \u001b[39m'\u001b[39m\u001b[39mrb\u001b[39m\u001b[39m'\u001b[39m) \u001b[39mas\u001b[39;00m f:\n\u001b[0;32m      2\u001b[0m     \u001b[39m# Load the object from the pickle file\u001b[39;00m\n\u001b[1;32m----> 3\u001b[0m     descriptors_dict \u001b[39m=\u001b[39m pkl\u001b[39m.\u001b[39;49mload(f)\n\u001b[0;32m      4\u001b[0m     TRAIN_SIZE \u001b[39m=\u001b[39m \u001b[39mlen\u001b[39m(descriptors_dict[\u001b[39m\"\u001b[39m\u001b[39mtrain_images\u001b[39m\u001b[39m\"\u001b[39m][\u001b[39m1\u001b[39m])\n\u001b[0;32m      5\u001b[0m descriptors_dict\u001b[39m.\u001b[39mkeys()\n",
      "\u001b[1;31mModuleNotFoundError\u001b[0m: No module named 'torch._utils'"
     ]
    }
   ],
   "source": [
    "with open((\"data/descriptors_dict_threshold_1_through_10.pkl\"), 'rb') as f:\n",
    "    # Load the object from the pickle file\n",
    "    descriptors_dict = pkl.load(f)\n",
    "    TRAIN_SIZE = len(descriptors_dict[\"train_images\"][1])\n",
    "descriptors_dict.keys()"
   ]
  },
  {
   "cell_type": "code",
   "execution_count": 5,
   "metadata": {},
   "outputs": [
    {
     "name": "stdout",
     "output_type": "stream",
     "text": [
      "threshold 1 pos rate: 1550/15300\n",
      "threshold 2 pos rate: 1470/15300\n",
      "threshold 3 pos rate: 1430/15300\n",
      "threshold 4 pos rate: 1400/15300\n",
      "threshold 5 pos rate: 1380/15300\n",
      "threshold 6 pos rate: 1340/15300\n",
      "threshold 7 pos rate: 1270/15300\n",
      "threshold 8 pos rate: 1240/15300\n",
      "threshold 9 pos rate: 1200/15300\n"
     ]
    }
   ],
   "source": [
    "for i in range (1, 10): \n",
    "    train_labels = descriptors_dict[\"train_labels\"][i]\n",
    "    train_images = descriptors_dict[\"train_images\"][i]\n",
    "    a = len(train_labels)\n",
    "    b = train_labels.sum()\n",
    "    print(f\"threshold {i} pos rate: {b}/{a}\")"
   ]
  },
  {
   "cell_type": "code",
   "execution_count": 4,
   "metadata": {},
   "outputs": [
    {
     "name": "stdout",
     "output_type": "stream",
     "text": [
      "threshold 1 pos rate: 49/510\n",
      "threshold 2 pos rate: 47/510\n",
      "threshold 3 pos rate: 45/510\n",
      "threshold 4 pos rate: 43/510\n",
      "threshold 5 pos rate: 42/510\n",
      "threshold 6 pos rate: 41/510\n",
      "threshold 7 pos rate: 39/510\n",
      "threshold 8 pos rate: 38/510\n",
      "threshold 9 pos rate: 38/510\n"
     ]
    }
   ],
   "source": [
    "for i in range (1, 10): \n",
    "    train_labels = descriptors_dict[\"test_labels\"][i]\n",
    "    train_images = descriptors_dict[\"test_images\"][i]\n",
    "    a = len(train_labels)\n",
    "    b = train_labels.sum()\n",
    "    print(f\"threshold {i} pos rate: {b}/{a}\")"
   ]
  },
  {
   "cell_type": "code",
   "execution_count": 4,
   "metadata": {},
   "outputs": [],
   "source": [
    "from sklearn.utils import resample\n",
    "\n",
    "def getBalancedXy(X, y, replacement=True):\n",
    "    # Find the indices of positive and negative samples\n",
    "    pos_indices = (y == 1).nonzero(as_tuple=True)[0]\n",
    "    neg_indices = (y == 0).nonzero(as_tuple=True)[0]\n",
    "\n",
    "    # Undersample the majority class or oversample the minority class\n",
    "    if len(pos_indices) > len(neg_indices):\n",
    "        # Undersample the positive samples\n",
    "        neg_indices_upsampled = resample(neg_indices, replace=replacement, n_samples=len(pos_indices))\n",
    "        indices = torch.cat((pos_indices, neg_indices_upsampled))\n",
    "    else:\n",
    "        # Oversample the negative samples\n",
    "        pos_indices_upsampled = resample(pos_indices, replace=replacement, n_samples=len(neg_indices))\n",
    "        indices = torch.cat((pos_indices_upsampled, neg_indices))\n",
    "\n",
    "    # Create a balanced dataset using the selected indices\n",
    "    balanced_X = X[indices]\n",
    "    balanced_y = y[indices]\n",
    "\n",
    "    return balanced_X, balanced_y\n",
    "\n"
   ]
  },
  {
   "cell_type": "code",
   "execution_count": null,
   "metadata": {},
   "outputs": [],
   "source": [
    "# going through training set and oversampling to balance \n",
    "for i in range (1, 10): \n",
    "    # checking pos/neg-ratio before balancing\n",
    "    train_labels = descriptors_dict[\"train_labels\"][i]\n",
    "    train_images = descriptors_dict[\"train_images\"][i]\n",
    "    a = len(train_labels)\n",
    "    b = train_labels.sum()\n",
    "    print(f\"threshold {i} pos rate: {b}/{a}\")\n",
    "\n",
    "    # balancing train\n",
    "    descriptors_dict[\"train_images\"][i], descriptors_dict[\"train_labels\"][i] = getBalancedXy(train_images, train_labels)\n",
    "    \n",
    "    # checking pos/neg-ratio after balancing\n",
    "    train_labels = descriptors_dict[\"train_labels\"][i]\n",
    "    train_images = descriptors_dict[\"train_images\"][i]\n",
    "    a = len(train_labels)\n",
    "    b = train_labels.sum()\n",
    "    print(f\"threshold {i} pos rate: {b}/{a} after balancing\")\n"
   ]
  },
  {
   "cell_type": "code",
   "execution_count": null,
   "metadata": {},
   "outputs": [],
   "source": [
    "#XGBOOST\n",
    "import xgboost as xgb\n",
    "import time \n",
    "\n",
    "def train_and_get_test_metrics(train_images, train_labels, test_images, test_labels):\n",
    "    model = xgb.XGBClassifier()\n",
    "\n",
    "    start_time = time.perf_counter()\n",
    "\n",
    "    model.fit(train_images, train_labels) #For sklearn no one hot encoding\n",
    "\n",
    "    end_time = time.perf_counter()\n",
    "\n",
    "    elapsed_time = end_time - start_time\n",
    "    print(f\"Training time: {elapsed_time:.6f} seconds\")\n",
    "    \n",
    "    #Now predict using the trained RF model. \n",
    "    prediction = model.predict(test_images)\n",
    "    #Print overall accuracy\n",
    "    #Print overall accuracy\n",
    "    from sklearn import metrics\n",
    "    from sklearn.metrics import confusion_matrix\n",
    "    print (\"Accuracy = \", metrics.accuracy_score(test_labels, prediction))\n",
    "    f1 = metrics.f1_score(test_labels, prediction)\n",
    "    print (\"F1 = \", f1)\n",
    "    print (\"CM: \")\n",
    "    print(confusion_matrix(test_labels, prediction))\n",
    "    return f1"
   ]
  },
  {
   "cell_type": "code",
   "execution_count": 43,
   "metadata": {},
   "outputs": [
    {
     "name": "stdout",
     "output_type": "stream",
     "text": [
      "Training time: 532.134625 seconds\n",
      "Accuracy =  0.9098039215686274\n",
      "F1 =  0.46511627906976744\n",
      "CM: \n",
      "[[444  17]\n",
      " [ 29  20]]\n",
      "Training time: 452.457605 seconds\n",
      "Accuracy =  0.9215686274509803\n",
      "F1 =  0.48717948717948717\n",
      "CM: \n",
      "[[451  12]\n",
      " [ 28  19]]\n",
      "Training time: 451.194482 seconds\n",
      "Accuracy =  0.9176470588235294\n",
      "F1 =  0.4615384615384615\n",
      "CM: \n",
      "[[450  15]\n",
      " [ 27  18]]\n",
      "Training time: 465.395445 seconds\n",
      "Accuracy =  0.9254901960784314\n",
      "F1 =  0.5\n",
      "CM: \n",
      "[[453  14]\n",
      " [ 24  19]]\n",
      "Training time: 463.691830 seconds\n",
      "Accuracy =  0.9196078431372549\n",
      "F1 =  0.4383561643835616\n",
      "CM: \n",
      "[[453  15]\n",
      " [ 26  16]]\n",
      "Training time: 443.872172 seconds\n",
      "Accuracy =  0.9313725490196079\n",
      "F1 =  0.5205479452054794\n",
      "CM: \n",
      "[[456  13]\n",
      " [ 22  19]]\n",
      "Training time: 465.811852 seconds\n",
      "Accuracy =  0.9352941176470588\n",
      "F1 =  0.5352112676056338\n",
      "CM: \n",
      "[[458  13]\n",
      " [ 20  19]]\n",
      "Training time: 421.925210 seconds\n",
      "Accuracy =  0.9411764705882353\n",
      "F1 =  0.5454545454545454\n",
      "CM: \n",
      "[[462  10]\n",
      " [ 20  18]]\n",
      "Training time: 411.746596 seconds\n",
      "Accuracy =  0.9411764705882353\n",
      "F1 =  0.5454545454545454\n",
      "CM: \n",
      "[[462  10]\n",
      " [ 20  18]]\n"
     ]
    }
   ],
   "source": [
    "for i in range (1, 10): \n",
    "    train_labels = descriptors_dict[\"train_labels\"][i]\n",
    "    train_images = descriptors_dict[\"train_images\"][i]\n",
    "\n",
    "    test_labels = descriptors_dict[\"test_labels\"][i]\n",
    "    test_images = descriptors_dict[\"test_images\"][i]\n",
    "\n",
    "    train_and_get_test_metrics(train_images, train_labels, test_images, test_labels)"
   ]
  },
  {
   "attachments": {},
   "cell_type": "markdown",
   "metadata": {},
   "source": [
    "# BALANCED AT DIFFERENT THRESHOLDS AND SEEING PROGRESS AS MORE AND MORE TRAINING DATA IS ADDED "
   ]
  },
  {
   "cell_type": "code",
   "execution_count": null,
   "metadata": {},
   "outputs": [
    {
     "name": "stdout",
     "output_type": "stream",
     "text": [
      "slide_end bigger than train_images len:  15300\n"
     ]
    }
   ],
   "source": [
    "def shuffle_tensors_in_same_order(tensor1, tensor2):\n",
    "    perm = torch.randperm(len(tensor1))\n",
    "\n",
    "    shuffled1 = tensor1[perm]\n",
    "    shuffled2 = tensor2[perm]\n",
    "\n",
    "    return shuffled1, shuffled2\n",
    "\n",
    "from sklearn.utils import resample\n",
    "def getBalancedXy(X, y, replacement=True):\n",
    "    # Find the indices of positive and negative samples\n",
    "    pos_indices = (y == 1).nonzero(as_tuple=True)[0]\n",
    "    neg_indices = (y == 0).nonzero(as_tuple=True)[0]\n",
    "\n",
    "    if len(pos_indices) == 0 or len(neg_indices) == 0: \n",
    "        print(\"THIS IS NO BUENO !!!!! there are either no pos or neg in this slice\")\n",
    "\n",
    "    # Undersample the majority class or oversample the minority class\n",
    "    if len(pos_indices) > len(neg_indices):\n",
    "        # Undersample the positive samples\n",
    "        neg_indices_upsampled = resample(neg_indices, replace=replacement, n_samples=len(pos_indices))\n",
    "        indices = torch.cat((pos_indices, neg_indices_upsampled))\n",
    "    else:\n",
    "        # Oversample the negative samples\n",
    "        pos_indices_upsampled = resample(pos_indices, replace=replacement, n_samples=len(neg_indices))\n",
    "        indices = torch.cat((pos_indices_upsampled, neg_indices))\n",
    "\n",
    "    # Create a balanced dataset using the selected indices\n",
    "    balanced_X = X[indices]\n",
    "    balanced_y = y[indices]\n",
    "\n",
    "    return balanced_X, balanced_y\n",
    "\n",
    "def getTrainShuffled_andTestUnshuffled(threshold):\n",
    "    with open((\"data/descriptors_dict_threshold_1_through_10.pkl\"), 'rb') as f:\n",
    "        # Load the object from the pickle file\n",
    "        descriptors_dict = pkl.load(f)\n",
    "\n",
    "    # iterate ten times starting with 10% of training data, balancing it and training it, then 20%, then 30%.... Only do it for 2 or 3 thresholds though\n",
    "    train_labels = descriptors_dict[\"train_labels\"][1]\n",
    "    train_images = descriptors_dict[\"train_images\"][1]\n",
    "\n",
    "    train_images, train_labels = shuffle_tensors_in_same_order(train_images, train_labels)\n",
    "\n",
    "    test_labels = descriptors_dict[\"test_labels\"][1]\n",
    "    test_images = descriptors_dict[\"test_images\"][1]\n",
    "\n",
    "    return train_images, train_labels, test_images, test_labels\n",
    "\n",
    "def getF1sForThreshold(threshold, num_f1s, trainsizes):\n",
    "    f1_dict_by_trainsize = {}\n",
    "    for trainsize in trainsizes: \n",
    "        f1s = []\n",
    "        for _ in range(num_f1s):\n",
    "            train_images, train_labels, test_images, test_labels = getTrainShuffled_andTestUnshuffled(threshold)\n",
    "            train_images_, train_labels_ = getBalancedXy(train_images[0:trainsize], train_labels[0:trainsize])\n",
    "            f1 = train_and_get_test_metrics(train_images_, train_labels_, test_images, test_labels)\n",
    "            f1s.append(f1)\n",
    "\n",
    "        f1_dict_by_trainsize[trainsize] = f1s\n",
    "    return f1_dict_by_trainsize\n",
    "\n",
    "# getting sizes of 20, 40, 60, 80, 100% of training data\n",
    "trainsizes = []\n",
    "for i in [2,4,6,8,10]: \n",
    "    slice_end = int(TRAIN_SIZE * 0.1*i)\n",
    "    if slice_end >= TRAIN_SIZE: \n",
    "        print(\"slide_end bigger than train_images len: \", TRAIN_SIZE)\n",
    "        slice_end = TRAIN_SIZE - 1\n",
    "    trainsizes.append(slice_end)"
   ]
  },
  {
   "cell_type": "code",
   "execution_count": null,
   "metadata": {},
   "outputs": [
    {
     "ename": "",
     "evalue": "",
     "output_type": "error",
     "traceback": [
      "\u001b[1;31mRunning cells with 'c:\\Program Files\\Python310\\python.exe' requires the ipykernel package.\n",
      "\u001b[1;31mRun the following command to install 'ipykernel' into the Python environment. \n",
      "\u001b[1;31mCommand: '\"c:/Program Files/Python310/python.exe\" -m pip install ipykernel -U --user --force-reinstall'"
     ]
    }
   ],
   "source": [
    "threshold1_f1s = getF1sForThreshold(1, 5, trainsizes)\n",
    "import pickle\n",
    "\n",
    "# Save threshold1_f1s as a pickle file\n",
    "with open('threshold1_f1s.pkl', 'wb') as f:\n",
    "    pickle.dump(threshold1_f1s, f)"
   ]
  },
  {
   "cell_type": "code",
   "execution_count": 47,
   "metadata": {},
   "outputs": [
    {
     "name": "stdout",
     "output_type": "stream",
     "text": [
      "Training time: 64.879049 seconds\n",
      "Accuracy =  0.9098039215686274\n",
      "F1 =  0.3947368421052632\n",
      "CM: \n",
      "[[449  12]\n",
      " [ 34  15]]\n",
      "Training time: 64.211108 seconds\n",
      "Accuracy =  0.9254901960784314\n",
      "F1 =  0.5365853658536586\n",
      "CM: \n",
      "[[450  11]\n",
      " [ 27  22]]\n",
      "Training time: 61.376516 seconds\n",
      "Accuracy =  0.9137254901960784\n",
      "F1 =  0.40540540540540543\n",
      "CM: \n",
      "[[451  10]\n",
      " [ 34  15]]\n",
      "Training time: 61.744323 seconds\n",
      "Accuracy =  0.9196078431372549\n",
      "F1 =  0.45333333333333325\n",
      "CM: \n",
      "[[452   9]\n",
      " [ 32  17]]\n",
      "Training time: 70.097265 seconds\n",
      "Accuracy =  0.9215686274509803\n",
      "F1 =  0.47368421052631576\n",
      "CM: \n",
      "[[452   9]\n",
      " [ 31  18]]\n",
      "Training time: 152.345923 seconds\n",
      "Accuracy =  0.9117647058823529\n",
      "F1 =  0.43037974683544306\n",
      "CM: \n",
      "[[448  13]\n",
      " [ 32  17]]\n",
      "Training time: 160.214339 seconds\n",
      "Accuracy =  0.9196078431372549\n",
      "F1 =  0.4938271604938272\n",
      "CM: \n",
      "[[449  12]\n",
      " [ 29  20]]\n",
      "Training time: 159.743001 seconds\n",
      "Accuracy =  0.9137254901960784\n",
      "F1 =  0.4634146341463415\n",
      "CM: \n",
      "[[447  14]\n",
      " [ 30  19]]\n",
      "Training time: 161.185593 seconds\n",
      "Accuracy =  0.9215686274509803\n",
      "F1 =  0.5348837209302325\n",
      "CM: \n",
      "[[447  14]\n",
      " [ 26  23]]\n",
      "Training time: 159.111620 seconds\n",
      "Accuracy =  0.907843137254902\n",
      "F1 =  0.4197530864197531\n",
      "CM: \n",
      "[[446  15]\n",
      " [ 32  17]]\n",
      "Training time: 262.114823 seconds\n",
      "Accuracy =  0.9137254901960784\n",
      "F1 =  0.47619047619047616\n",
      "CM: \n",
      "[[446  15]\n",
      " [ 29  20]]\n",
      "Training time: 262.375871 seconds\n",
      "Accuracy =  0.9117647058823529\n",
      "F1 =  0.4444444444444445\n",
      "CM: \n",
      "[[447  14]\n",
      " [ 31  18]]\n",
      "Training time: 264.177611 seconds\n",
      "Accuracy =  0.9117647058823529\n",
      "F1 =  0.4444444444444445\n",
      "CM: \n",
      "[[447  14]\n",
      " [ 31  18]]\n",
      "Training time: 243.538013 seconds\n",
      "Accuracy =  0.9058823529411765\n",
      "F1 =  0.42857142857142855\n",
      "CM: \n",
      "[[444  17]\n",
      " [ 31  18]]\n",
      "Training time: 261.891631 seconds\n",
      "Accuracy =  0.9156862745098039\n",
      "F1 =  0.46913580246913583\n",
      "CM: \n",
      "[[448  13]\n",
      " [ 30  19]]\n",
      "Training time: 383.404185 seconds\n",
      "Accuracy =  0.9215686274509803\n",
      "F1 =  0.5121951219512195\n",
      "CM: \n",
      "[[449  12]\n",
      " [ 28  21]]\n",
      "Training time: 346.988654 seconds\n",
      "Accuracy =  0.9176470588235294\n",
      "F1 =  0.5116279069767442\n",
      "CM: \n",
      "[[446  15]\n",
      " [ 27  22]]\n",
      "Training time: 377.137466 seconds\n",
      "Accuracy =  0.9117647058823529\n",
      "F1 =  0.47058823529411764\n",
      "CM: \n",
      "[[445  16]\n",
      " [ 29  20]]\n",
      "Training time: 379.485639 seconds\n",
      "Accuracy =  0.9137254901960784\n",
      "F1 =  0.47619047619047616\n",
      "CM: \n",
      "[[446  15]\n",
      " [ 29  20]]\n",
      "Training time: 382.779264 seconds\n",
      "Accuracy =  0.9156862745098039\n",
      "F1 =  0.5057471264367815\n",
      "CM: \n",
      "[[445  16]\n",
      " [ 27  22]]\n",
      "Training time: 505.671743 seconds\n",
      "Accuracy =  0.9156862745098039\n",
      "F1 =  0.49411764705882355\n",
      "CM: \n",
      "[[446  15]\n",
      " [ 28  21]]\n",
      "Training time: 471.127674 seconds\n",
      "Accuracy =  0.9098039215686274\n",
      "F1 =  0.46511627906976744\n",
      "CM: \n",
      "[[444  17]\n",
      " [ 29  20]]\n",
      "Training time: 456.973468 seconds\n",
      "Accuracy =  0.907843137254902\n",
      "F1 =  0.44705882352941173\n",
      "CM: \n",
      "[[444  17]\n",
      " [ 30  19]]\n",
      "Training time: 474.203946 seconds\n",
      "Accuracy =  0.9156862745098039\n",
      "F1 =  0.46913580246913583\n",
      "CM: \n",
      "[[448  13]\n",
      " [ 30  19]]\n",
      "Training time: 457.756887 seconds\n",
      "Accuracy =  0.9137254901960784\n",
      "F1 =  0.47619047619047616\n",
      "CM: \n",
      "[[446  15]\n",
      " [ 29  20]]\n"
     ]
    }
   ],
   "source": [
    "threshold9_f1s = getF1sForThreshold(9, 5, trainsizes)\n",
    "\n",
    "# Save threshold9_f1s as a pickle file\n",
    "with open('threshold9_f1s.pkl', 'wb') as f:\n",
    "    pickle.dump(threshold9_f1s, f)"
   ]
  },
  {
   "cell_type": "code",
   "execution_count": 48,
   "metadata": {},
   "outputs": [],
   "source": [
    "\n"
   ]
  },
  {
   "attachments": {},
   "cell_type": "markdown",
   "metadata": {},
   "source": [
    "# Plotting"
   ]
  },
  {
   "cell_type": "code",
   "execution_count": 1,
   "metadata": {},
   "outputs": [],
   "source": [
    "import matplotlib.pyplot as plt\n",
    "\n",
    "def plot_f1_scores(F1_scores, training_sizes, title):\n",
    "    fig, ax = plt.subplots()\n",
    "    fig.suptitle(title)\n",
    "    ax.plot(training_sizes, F1_scores)\n",
    "    ax.set_xlabel('Training Size')\n",
    "    ax.set_ylabel('F1 Score')\n",
    "    plt.show()"
   ]
  },
  {
   "cell_type": "code",
   "execution_count": 2,
   "metadata": {},
   "outputs": [
    {
     "data": {
      "text/plain": [
       "dict_keys(['trainsize'])"
      ]
     },
     "execution_count": 2,
     "metadata": {},
     "output_type": "execute_result"
    }
   ],
   "source": [
    "import pickle as pkl \n",
    "with open((\"threshold1_f1s.pkl\"), 'rb') as f:\n",
    "    # Load the object from the pickle file\n",
    "    threshold1_f1s = pkl.load(f)  \n",
    "\n",
    "threshold1_f1s.keys()"
   ]
  },
  {
   "cell_type": "code",
   "execution_count": null,
   "metadata": {},
   "outputs": [],
   "source": []
  },
  {
   "cell_type": "code",
   "execution_count": null,
   "metadata": {},
   "outputs": [],
   "source": []
  },
  {
   "cell_type": "code",
   "execution_count": null,
   "metadata": {},
   "outputs": [],
   "source": []
  },
  {
   "cell_type": "code",
   "execution_count": null,
   "metadata": {},
   "outputs": [],
   "source": []
  },
  {
   "cell_type": "code",
   "execution_count": null,
   "metadata": {},
   "outputs": [],
   "source": []
  },
  {
   "cell_type": "code",
   "execution_count": 38,
   "metadata": {},
   "outputs": [
    {
     "name": "stdout",
     "output_type": "stream",
     "text": [
      "slice_start: 0, slice_end: 3060\n"
     ]
    },
    {
     "ename": "KeyboardInterrupt",
     "evalue": "",
     "output_type": "error",
     "traceback": [
      "\u001b[1;31m---------------------------------------------------------------------------\u001b[0m",
      "\u001b[1;31mKeyboardInterrupt\u001b[0m                         Traceback (most recent call last)",
      "\u001b[1;32m~\\AppData\\Local\\Temp/ipykernel_13000/2956284608.py\u001b[0m in \u001b[0;36m<module>\u001b[1;34m\u001b[0m\n\u001b[0;32m     49\u001b[0m \u001b[1;33m\u001b[0m\u001b[0m\n\u001b[0;32m     50\u001b[0m     \u001b[1;32mfor\u001b[0m \u001b[0mj\u001b[0m \u001b[1;32min\u001b[0m \u001b[0mrange\u001b[0m\u001b[1;33m(\u001b[0m\u001b[1;36m5\u001b[0m\u001b[1;33m)\u001b[0m\u001b[1;33m:\u001b[0m\u001b[1;33m\u001b[0m\u001b[1;33m\u001b[0m\u001b[0m\n\u001b[1;32m---> 51\u001b[1;33m         \u001b[0mf1\u001b[0m \u001b[1;33m=\u001b[0m \u001b[0mtrain_and_get_test_metrics\u001b[0m\u001b[1;33m(\u001b[0m\u001b[0mtrain_images_\u001b[0m\u001b[1;33m,\u001b[0m \u001b[0mtrain_labels_\u001b[0m\u001b[1;33m,\u001b[0m \u001b[0mtest_images\u001b[0m\u001b[1;33m,\u001b[0m \u001b[0mtest_labels\u001b[0m\u001b[1;33m)\u001b[0m\u001b[1;33m\u001b[0m\u001b[1;33m\u001b[0m\u001b[0m\n\u001b[0m\u001b[0;32m     52\u001b[0m         \u001b[0mthreshold1_f1_scores\u001b[0m\u001b[1;33m.\u001b[0m\u001b[0mappend\u001b[0m\u001b[1;33m(\u001b[0m\u001b[0mf1\u001b[0m\u001b[1;33m)\u001b[0m\u001b[1;33m\u001b[0m\u001b[1;33m\u001b[0m\u001b[0m\n",
      "\u001b[1;32m~\\AppData\\Local\\Temp/ipykernel_13000/204067372.py\u001b[0m in \u001b[0;36mtrain_and_get_test_metrics\u001b[1;34m(train_images, train_labels, test_images, test_labels)\u001b[0m\n\u001b[0;32m      8\u001b[0m     \u001b[0mstart_time\u001b[0m \u001b[1;33m=\u001b[0m \u001b[0mtime\u001b[0m\u001b[1;33m.\u001b[0m\u001b[0mperf_counter\u001b[0m\u001b[1;33m(\u001b[0m\u001b[1;33m)\u001b[0m\u001b[1;33m\u001b[0m\u001b[1;33m\u001b[0m\u001b[0m\n\u001b[0;32m      9\u001b[0m \u001b[1;33m\u001b[0m\u001b[0m\n\u001b[1;32m---> 10\u001b[1;33m     \u001b[0mmodel\u001b[0m\u001b[1;33m.\u001b[0m\u001b[0mfit\u001b[0m\u001b[1;33m(\u001b[0m\u001b[0mtrain_images\u001b[0m\u001b[1;33m,\u001b[0m \u001b[0mtrain_labels\u001b[0m\u001b[1;33m)\u001b[0m \u001b[1;31m#For sklearn no one hot encoding\u001b[0m\u001b[1;33m\u001b[0m\u001b[1;33m\u001b[0m\u001b[0m\n\u001b[0m\u001b[0;32m     11\u001b[0m \u001b[1;33m\u001b[0m\u001b[0m\n\u001b[0;32m     12\u001b[0m     \u001b[0mend_time\u001b[0m \u001b[1;33m=\u001b[0m \u001b[0mtime\u001b[0m\u001b[1;33m.\u001b[0m\u001b[0mperf_counter\u001b[0m\u001b[1;33m(\u001b[0m\u001b[1;33m)\u001b[0m\u001b[1;33m\u001b[0m\u001b[1;33m\u001b[0m\u001b[0m\n",
      "\u001b[1;32mc:\\Users\\jaro\\Anaconda3\\lib\\site-packages\\xgboost\\core.py\u001b[0m in \u001b[0;36minner_f\u001b[1;34m(*args, **kwargs)\u001b[0m\n\u001b[0;32m    618\u001b[0m             \u001b[1;32mfor\u001b[0m \u001b[0mk\u001b[0m\u001b[1;33m,\u001b[0m \u001b[0marg\u001b[0m \u001b[1;32min\u001b[0m \u001b[0mzip\u001b[0m\u001b[1;33m(\u001b[0m\u001b[0msig\u001b[0m\u001b[1;33m.\u001b[0m\u001b[0mparameters\u001b[0m\u001b[1;33m,\u001b[0m \u001b[0margs\u001b[0m\u001b[1;33m)\u001b[0m\u001b[1;33m:\u001b[0m\u001b[1;33m\u001b[0m\u001b[1;33m\u001b[0m\u001b[0m\n\u001b[0;32m    619\u001b[0m                 \u001b[0mkwargs\u001b[0m\u001b[1;33m[\u001b[0m\u001b[0mk\u001b[0m\u001b[1;33m]\u001b[0m \u001b[1;33m=\u001b[0m \u001b[0marg\u001b[0m\u001b[1;33m\u001b[0m\u001b[1;33m\u001b[0m\u001b[0m\n\u001b[1;32m--> 620\u001b[1;33m             \u001b[1;32mreturn\u001b[0m \u001b[0mfunc\u001b[0m\u001b[1;33m(\u001b[0m\u001b[1;33m**\u001b[0m\u001b[0mkwargs\u001b[0m\u001b[1;33m)\u001b[0m\u001b[1;33m\u001b[0m\u001b[1;33m\u001b[0m\u001b[0m\n\u001b[0m\u001b[0;32m    621\u001b[0m \u001b[1;33m\u001b[0m\u001b[0m\n\u001b[0;32m    622\u001b[0m         \u001b[1;32mreturn\u001b[0m \u001b[0minner_f\u001b[0m\u001b[1;33m\u001b[0m\u001b[1;33m\u001b[0m\u001b[0m\n",
      "\u001b[1;32mc:\\Users\\jaro\\Anaconda3\\lib\\site-packages\\xgboost\\sklearn.py\u001b[0m in \u001b[0;36mfit\u001b[1;34m(self, X, y, sample_weight, base_margin, eval_set, eval_metric, early_stopping_rounds, verbose, xgb_model, sample_weight_eval_set, base_margin_eval_set, feature_weights, callbacks)\u001b[0m\n\u001b[0;32m   1488\u001b[0m             )\n\u001b[0;32m   1489\u001b[0m \u001b[1;33m\u001b[0m\u001b[0m\n\u001b[1;32m-> 1490\u001b[1;33m             self._Booster = train(\n\u001b[0m\u001b[0;32m   1491\u001b[0m                 \u001b[0mparams\u001b[0m\u001b[1;33m,\u001b[0m\u001b[1;33m\u001b[0m\u001b[1;33m\u001b[0m\u001b[0m\n\u001b[0;32m   1492\u001b[0m                 \u001b[0mtrain_dmatrix\u001b[0m\u001b[1;33m,\u001b[0m\u001b[1;33m\u001b[0m\u001b[1;33m\u001b[0m\u001b[0m\n",
      "\u001b[1;32mc:\\Users\\jaro\\Anaconda3\\lib\\site-packages\\xgboost\\core.py\u001b[0m in \u001b[0;36minner_f\u001b[1;34m(*args, **kwargs)\u001b[0m\n\u001b[0;32m    618\u001b[0m             \u001b[1;32mfor\u001b[0m \u001b[0mk\u001b[0m\u001b[1;33m,\u001b[0m \u001b[0marg\u001b[0m \u001b[1;32min\u001b[0m \u001b[0mzip\u001b[0m\u001b[1;33m(\u001b[0m\u001b[0msig\u001b[0m\u001b[1;33m.\u001b[0m\u001b[0mparameters\u001b[0m\u001b[1;33m,\u001b[0m \u001b[0margs\u001b[0m\u001b[1;33m)\u001b[0m\u001b[1;33m:\u001b[0m\u001b[1;33m\u001b[0m\u001b[1;33m\u001b[0m\u001b[0m\n\u001b[0;32m    619\u001b[0m                 \u001b[0mkwargs\u001b[0m\u001b[1;33m[\u001b[0m\u001b[0mk\u001b[0m\u001b[1;33m]\u001b[0m \u001b[1;33m=\u001b[0m \u001b[0marg\u001b[0m\u001b[1;33m\u001b[0m\u001b[1;33m\u001b[0m\u001b[0m\n\u001b[1;32m--> 620\u001b[1;33m             \u001b[1;32mreturn\u001b[0m \u001b[0mfunc\u001b[0m\u001b[1;33m(\u001b[0m\u001b[1;33m**\u001b[0m\u001b[0mkwargs\u001b[0m\u001b[1;33m)\u001b[0m\u001b[1;33m\u001b[0m\u001b[1;33m\u001b[0m\u001b[0m\n\u001b[0m\u001b[0;32m    621\u001b[0m \u001b[1;33m\u001b[0m\u001b[0m\n\u001b[0;32m    622\u001b[0m         \u001b[1;32mreturn\u001b[0m \u001b[0minner_f\u001b[0m\u001b[1;33m\u001b[0m\u001b[1;33m\u001b[0m\u001b[0m\n",
      "\u001b[1;32mc:\\Users\\jaro\\Anaconda3\\lib\\site-packages\\xgboost\\training.py\u001b[0m in \u001b[0;36mtrain\u001b[1;34m(params, dtrain, num_boost_round, evals, obj, feval, maximize, early_stopping_rounds, evals_result, verbose_eval, xgb_model, callbacks, custom_metric)\u001b[0m\n\u001b[0;32m    183\u001b[0m         \u001b[1;32mif\u001b[0m \u001b[0mcb_container\u001b[0m\u001b[1;33m.\u001b[0m\u001b[0mbefore_iteration\u001b[0m\u001b[1;33m(\u001b[0m\u001b[0mbst\u001b[0m\u001b[1;33m,\u001b[0m \u001b[0mi\u001b[0m\u001b[1;33m,\u001b[0m \u001b[0mdtrain\u001b[0m\u001b[1;33m,\u001b[0m \u001b[0mevals\u001b[0m\u001b[1;33m)\u001b[0m\u001b[1;33m:\u001b[0m\u001b[1;33m\u001b[0m\u001b[1;33m\u001b[0m\u001b[0m\n\u001b[0;32m    184\u001b[0m             \u001b[1;32mbreak\u001b[0m\u001b[1;33m\u001b[0m\u001b[1;33m\u001b[0m\u001b[0m\n\u001b[1;32m--> 185\u001b[1;33m         \u001b[0mbst\u001b[0m\u001b[1;33m.\u001b[0m\u001b[0mupdate\u001b[0m\u001b[1;33m(\u001b[0m\u001b[0mdtrain\u001b[0m\u001b[1;33m,\u001b[0m \u001b[0mi\u001b[0m\u001b[1;33m,\u001b[0m \u001b[0mobj\u001b[0m\u001b[1;33m)\u001b[0m\u001b[1;33m\u001b[0m\u001b[1;33m\u001b[0m\u001b[0m\n\u001b[0m\u001b[0;32m    186\u001b[0m         \u001b[1;32mif\u001b[0m \u001b[0mcb_container\u001b[0m\u001b[1;33m.\u001b[0m\u001b[0mafter_iteration\u001b[0m\u001b[1;33m(\u001b[0m\u001b[0mbst\u001b[0m\u001b[1;33m,\u001b[0m \u001b[0mi\u001b[0m\u001b[1;33m,\u001b[0m \u001b[0mdtrain\u001b[0m\u001b[1;33m,\u001b[0m \u001b[0mevals\u001b[0m\u001b[1;33m)\u001b[0m\u001b[1;33m:\u001b[0m\u001b[1;33m\u001b[0m\u001b[1;33m\u001b[0m\u001b[0m\n\u001b[0;32m    187\u001b[0m             \u001b[1;32mbreak\u001b[0m\u001b[1;33m\u001b[0m\u001b[1;33m\u001b[0m\u001b[0m\n",
      "\u001b[1;32mc:\\Users\\jaro\\Anaconda3\\lib\\site-packages\\xgboost\\core.py\u001b[0m in \u001b[0;36mupdate\u001b[1;34m(self, dtrain, iteration, fobj)\u001b[0m\n\u001b[0;32m   1916\u001b[0m \u001b[1;33m\u001b[0m\u001b[0m\n\u001b[0;32m   1917\u001b[0m         \u001b[1;32mif\u001b[0m \u001b[0mfobj\u001b[0m \u001b[1;32mis\u001b[0m \u001b[1;32mNone\u001b[0m\u001b[1;33m:\u001b[0m\u001b[1;33m\u001b[0m\u001b[1;33m\u001b[0m\u001b[0m\n\u001b[1;32m-> 1918\u001b[1;33m             _check_call(_LIB.XGBoosterUpdateOneIter(self.handle,\n\u001b[0m\u001b[0;32m   1919\u001b[0m                                                     \u001b[0mctypes\u001b[0m\u001b[1;33m.\u001b[0m\u001b[0mc_int\u001b[0m\u001b[1;33m(\u001b[0m\u001b[0miteration\u001b[0m\u001b[1;33m)\u001b[0m\u001b[1;33m,\u001b[0m\u001b[1;33m\u001b[0m\u001b[1;33m\u001b[0m\u001b[0m\n\u001b[0;32m   1920\u001b[0m                                                     dtrain.handle))\n",
      "\u001b[1;31mKeyboardInterrupt\u001b[0m: "
     ]
    }
   ],
   "source": [
    "for i in fs: \n",
    "    slice_end = int(len(train_images) * 0.1*i)\n",
    "    if slice_end >= len(train_images): \n",
    "        print(\"slide_end bigger than train_images len: \", len(train_images))\n",
    "        slice_end = len(train_images) - 1\n",
    "    print(f\"slice_start: {0}, slice_end: {slice_end}\")\n",
    "    train_images_, train_labels_ = getBalancedXy(train_images[0:slice_end], train_labels[0:slice_end])\n",
    "\n",
    "    for j in range(5):\n",
    "        f1 = train_and_get_test_metrics(train_images_, train_labels_, test_images, test_labels)\n",
    "        threshold1_f1_scores.append(f1)"
   ]
  },
  {
   "cell_type": "code",
   "execution_count": null,
   "metadata": {},
   "outputs": [
    {
     "name": "stdout",
     "output_type": "stream",
     "text": [
      "slice_start: 0, slice_end: 3060\n",
      "Training time: 58.517289 seconds\n",
      "Accuracy =  0.9196078431372549\n",
      "F1 =  0.36923076923076925\n",
      "CM: \n",
      "[[457  15]\n",
      " [ 26  12]]\n",
      "slice_start: 0, slice_end: 6120\n",
      "Training time: 191.951175 seconds\n",
      "Accuracy =  0.9294117647058824\n",
      "F1 =  0.47058823529411764\n",
      "CM: \n",
      "[[458  14]\n",
      " [ 22  16]]\n",
      "slice_start: 0, slice_end: 9180\n",
      "Training time: 308.073535 seconds\n",
      "Accuracy =  0.9196078431372549\n",
      "F1 =  0.4383561643835617\n",
      "CM: \n",
      "[[453  19]\n",
      " [ 22  16]]\n",
      "slice_start: 0, slice_end: 12240\n",
      "Training time: 455.810008 seconds\n",
      "Accuracy =  0.9235294117647059\n",
      "F1 =  0.43478260869565216\n",
      "CM: \n",
      "[[456  16]\n",
      " [ 23  15]]\n",
      "slide_end bigger than train_images len:  15300\n",
      "slice_start: 0, slice_end: 15299\n",
      "Training time: 571.260923 seconds\n",
      "Accuracy =  0.9352941176470588\n",
      "F1 =  0.5217391304347826\n",
      "CM: \n",
      "[[459  13]\n",
      " [ 20  18]]\n"
     ]
    }
   ],
   "source": [
    "with open((\"data/descriptors_dict_threshold_1_through_10.pkl\"), 'rb') as f:\n",
    "    # Load the object from the pickle file\n",
    "    descriptors_dict = pkl.load(f)\n",
    "\n",
    "# iterate ten times starting with 10% of training data, balancing it and training it, then 20%, then 30%.... Only do it for 2 or 3 thresholds though\n",
    "train_labels = descriptors_dict[\"train_labels\"][9]\n",
    "train_images = descriptors_dict[\"train_images\"][9]\n",
    "\n",
    "test_labels = descriptors_dict[\"test_labels\"][9]\n",
    "test_images = descriptors_dict[\"test_images\"][9]\n",
    "\n",
    "del descriptors_dict\n",
    "\n",
    "threshold9_f1_scores = []\n",
    "fs = [2, 4, 6, 8, 10]\n",
    "for i in fs: \n",
    "    slice_end = int(len(train_images) * 0.1*i)\n",
    "    if slice_end >= len(train_images): \n",
    "        print(\"slide_end bigger than train_images len: \", len(train_images))\n",
    "        slice_end = len(train_images) - 1\n",
    "    print(f\"slice_start: {0}, slice_end: {slice_end}\")\n",
    "    train_images_, train_labels_ = getBalancedXy(train_images[0:slice_end], train_labels[0:slice_end])\n",
    "\n",
    "    for j in range(5):\n",
    "        f1 = train_and_get_test_metrics(train_images_, train_labels_, test_images, test_labels)\n",
    "        threshold9_f1_scores.append(f1)"
   ]
  },
  {
   "attachments": {},
   "cell_type": "markdown",
   "metadata": {},
   "source": [
    "# Trying again, but shuffled to see if similar results"
   ]
  },
  {
   "cell_type": "code",
   "execution_count": 25,
   "metadata": {},
   "outputs": [],
   "source": []
  },
  {
   "cell_type": "code",
   "execution_count": 26,
   "metadata": {},
   "outputs": [
    {
     "name": "stdout",
     "output_type": "stream",
     "text": [
      "slice_start: 0, slice_end: 3060\n",
      "Training time: 90.614602 seconds\n",
      "Accuracy =  0.9156862745098039\n",
      "F1 =  0.46913580246913583\n",
      "CM: \n",
      "[[448  13]\n",
      " [ 30  19]]\n",
      "slice_start: 0, slice_end: 6120\n",
      "Training time: 229.137631 seconds\n",
      "Accuracy =  0.9196078431372549\n",
      "F1 =  0.5287356321839081\n",
      "CM: \n",
      "[[446  15]\n",
      " [ 26  23]]\n",
      "slice_start: 0, slice_end: 9180\n",
      "Training time: 370.349545 seconds\n",
      "Accuracy =  0.9\n",
      "F1 =  0.4516129032258064\n",
      "CM: \n",
      "[[438  23]\n",
      " [ 28  21]]\n",
      "slice_start: 0, slice_end: 12240\n",
      "Training time: 526.257920 seconds\n",
      "Accuracy =  0.907843137254902\n",
      "F1 =  0.4337349397590361\n",
      "CM: \n",
      "[[445  16]\n",
      " [ 31  18]]\n",
      "slide_end bigger than train_images len:  15300\n",
      "slice_start: 0, slice_end: 15299\n",
      "Training time: 691.978761 seconds\n",
      "Accuracy =  0.9215686274509803\n",
      "F1 =  0.5238095238095237\n",
      "CM: \n",
      "[[448  13]\n",
      " [ 27  22]]\n"
     ]
    }
   ],
   "source": [
    "with open((\"data/descriptors_dict_threshold_1_through_10.pkl\"), 'rb') as f:\n",
    "    # Load the object from the pickle file\n",
    "    descriptors_dict = pkl.load(f)\n",
    "\n",
    "from sklearn.utils import resample\n",
    "def getBalancedXy(X, y, replacement=True):\n",
    "    # Find the indices of positive and negative samples\n",
    "    pos_indices = (y == 1).nonzero(as_tuple=True)[0]\n",
    "    neg_indices = (y == 0).nonzero(as_tuple=True)[0]\n",
    "\n",
    "    if len(pos_indices) == 0 or len(neg_indices) == 0: \n",
    "        print(\"THIS IS NO BUENO !!!!! there are either no pos or neg in this slice\")\n",
    "\n",
    "    # Undersample the majority class or oversample the minority class\n",
    "    if len(pos_indices) > len(neg_indices):\n",
    "        # Undersample the positive samples\n",
    "        neg_indices_upsampled = resample(neg_indices, replace=replacement, n_samples=len(pos_indices))\n",
    "        indices = torch.cat((pos_indices, neg_indices_upsampled))\n",
    "    else:\n",
    "        # Oversample the negative samples\n",
    "        pos_indices_upsampled = resample(pos_indices, replace=replacement, n_samples=len(neg_indices))\n",
    "        indices = torch.cat((pos_indices_upsampled, neg_indices))\n",
    "\n",
    "    # Create a balanced dataset using the selected indices\n",
    "    balanced_X = X[indices]\n",
    "    balanced_y = y[indices]\n",
    "\n",
    "    return balanced_X, balanced_y\n",
    "\n",
    "# iterate ten times starting with 10% of training data, balancing it and training it, then 20%, then 30%.... Only do it for 2 or 3 thresholds though\n",
    "train_labels = descriptors_dict[\"train_labels\"][1]\n",
    "train_images = descriptors_dict[\"train_images\"][1]\n",
    "\n",
    "train_images, train_labels = shuffle_tensors_in_same_order(train_images, train_labels)\n",
    "\n",
    "test_labels = descriptors_dict[\"test_labels\"][1]\n",
    "test_images = descriptors_dict[\"test_images\"][1]\n",
    "\n",
    "del descriptors_dict\n",
    "\n",
    "fs = [2, 4, 6, 8, 10]\n",
    "for i in fs: \n",
    "    slice_end = int(len(train_images) * 0.1*i)\n",
    "    if slice_end >= len(train_images): \n",
    "        print(\"slide_end bigger than train_images len: \", len(train_images))\n",
    "        slice_end = len(train_images) - 1\n",
    "    print(f\"slice_start: {0}, slice_end: {slice_end}\")\n",
    "    train_images_, train_labels_ = getBalancedXy(train_images[0:slice_end], train_labels[0:slice_end])\n",
    "\n",
    "    train_and_get_test_metrics(train_images_, train_labels_, test_images, test_labels)"
   ]
  },
  {
   "cell_type": "code",
   "execution_count": 27,
   "metadata": {},
   "outputs": [
    {
     "name": "stdout",
     "output_type": "stream",
     "text": [
      "slice_start: 0, slice_end: 3060\n",
      "Training time: 81.663570 seconds\n",
      "Accuracy =  0.9294117647058824\n",
      "F1 =  0.45454545454545453\n",
      "CM: \n",
      "[[459  13]\n",
      " [ 23  15]]\n",
      "slice_start: 0, slice_end: 6120\n",
      "Training time: 165.167107 seconds\n",
      "Accuracy =  0.9392156862745098\n",
      "F1 =  0.5079365079365079\n",
      "CM: \n",
      "[[463   9]\n",
      " [ 22  16]]\n",
      "slice_start: 0, slice_end: 9180\n",
      "Training time: 267.211134 seconds\n",
      "Accuracy =  0.9313725490196079\n",
      "F1 =  0.4444444444444444\n",
      "CM: \n",
      "[[461  11]\n",
      " [ 24  14]]\n",
      "slice_start: 0, slice_end: 12240\n",
      "Training time: 528.123044 seconds\n",
      "Accuracy =  0.9333333333333333\n",
      "F1 =  0.48484848484848486\n",
      "CM: \n",
      "[[460  12]\n",
      " [ 22  16]]\n",
      "slide_end bigger than train_images len:  15300\n",
      "slice_start: 0, slice_end: 15299\n",
      "Training time: 643.284431 seconds\n",
      "Accuracy =  0.9274509803921569\n",
      "F1 =  0.44776119402985076\n",
      "CM: \n",
      "[[458  14]\n",
      " [ 23  15]]\n"
     ]
    }
   ],
   "source": [
    "with open((\"data/descriptors_dict_threshold_1_through_10.pkl\"), 'rb') as f:\n",
    "    # Load the object from the pickle file\n",
    "    descriptors_dict = pkl.load(f)\n",
    "\n",
    "from sklearn.utils import resample\n",
    "def getBalancedXy(X, y, replacement=True):\n",
    "    # Find the indices of positive and negative samples\n",
    "    pos_indices = (y == 1).nonzero(as_tuple=True)[0]\n",
    "    neg_indices = (y == 0).nonzero(as_tuple=True)[0]\n",
    "\n",
    "    if len(pos_indices) == 0 or len(neg_indices) == 0: \n",
    "        print(\"THIS IS NO BUENO !!!!! there are either no pos or neg in this slice\")\n",
    "\n",
    "    # Undersample the majority class or oversample the minority class\n",
    "    if len(pos_indices) > len(neg_indices):\n",
    "        # Undersample the positive samples\n",
    "        neg_indices_upsampled = resample(neg_indices, replace=replacement, n_samples=len(pos_indices))\n",
    "        indices = torch.cat((pos_indices, neg_indices_upsampled))\n",
    "    else:\n",
    "        # Oversample the negative samples\n",
    "        pos_indices_upsampled = resample(pos_indices, replace=replacement, n_samples=len(neg_indices))\n",
    "        indices = torch.cat((pos_indices_upsampled, neg_indices))\n",
    "\n",
    "    # Create a balanced dataset using the selected indices\n",
    "    balanced_X = X[indices]\n",
    "    balanced_y = y[indices]\n",
    "\n",
    "    return balanced_X, balanced_y\n",
    "\n",
    "# iterate ten times starting with 10% of training data, balancing it and training it, then 20%, then 30%.... Only do it for 2 or 3 thresholds though\n",
    "train_labels = descriptors_dict[\"train_labels\"][9]\n",
    "train_images = descriptors_dict[\"train_images\"][9]\n",
    "\n",
    "train_images, train_labels = shuffle_tensors_in_same_order(train_images, train_labels)\n",
    "\n",
    "test_labels = descriptors_dict[\"test_labels\"][9]\n",
    "test_images = descriptors_dict[\"test_images\"][9]\n",
    "\n",
    "del descriptors_dict\n",
    "\n",
    "fs = [2, 4, 6, 8, 10]\n",
    "for i in fs: \n",
    "    slice_end = int(len(train_images) * 0.1*i)\n",
    "    if slice_end >= len(train_images): \n",
    "        print(\"slide_end bigger than train_images len: \", len(train_images))\n",
    "        slice_end = len(train_images) - 1\n",
    "    print(f\"slice_start: {0}, slice_end: {slice_end}\")\n",
    "    train_images_, train_labels_ = getBalancedXy(train_images[0:slice_end], train_labels[0:slice_end])\n",
    "\n",
    "    train_and_get_test_metrics(train_images_, train_labels_, test_images, test_labels)"
   ]
  },
  {
   "cell_type": "code",
   "execution_count": 30,
   "metadata": {},
   "outputs": [],
   "source": [
    "threshold_1_first = [0.39999999999999997,  0.40506329113924044, 0.4444444444444445, 0.3764705882352941, 0.4827586206896552]\n",
    "threshold_9_first =  [0.36923076923076925, 0.47058823529411764, 0.4383561643835617, 0.43478260869565216, 0.5217391304347826]\n",
    "\n",
    "threshold_1_second = [0.46913580246913583, 0.5287356321839081, 0.4516129032258064, 0.4337349397590361, 0.5238095238095237]\n",
    "threshold_9_second = [0.45454545454545453, 0.5079365079365079, 0.4444444444444444, 0.48484848484848486, 0.44776119402985076]\n",
    "\n",
    "training_sizes = [3060, 6120, 9180, 12240, 15300]"
   ]
  },
  {
   "cell_type": "code",
   "execution_count": 32,
   "metadata": {},
   "outputs": [
    {
     "data": {
      "image/png": "[encoded data removed]",
      "text/plain": [
       "<Figure size 432x288 with 1 Axes>"
      ]
     },
     "metadata": {
      "needs_background": "light"
     },
     "output_type": "display_data"
    }
   ],
   "source": [
    "plot_f1_scores(threshold_1_first, training_sizes, \"threshold 1 first run\")"
   ]
  },
  {
   "cell_type": "code",
   "execution_count": 33,
   "metadata": {},
   "outputs": [
    {
     "data": {
      "image/png": "[encoded data removed]",
      "text/plain": [
       "<Figure size 432x288 with 1 Axes>"
      ]
     },
     "metadata": {
      "needs_background": "light"
     },
     "output_type": "display_data"
    }
   ],
   "source": [
    "plot_f1_scores(threshold_1_second, training_sizes, \"threshold 1 second run\")"
   ]
  },
  {
   "cell_type": "code",
   "execution_count": 36,
   "metadata": {},
   "outputs": [
    {
     "data": {
      "image/png": "[encoded data removed]",
      "text/plain": [
       "<Figure size 432x288 with 1 Axes>"
      ]
     },
     "metadata": {
      "needs_background": "light"
     },
     "output_type": "display_data"
    }
   ],
   "source": [
    "plot_f1_scores(threshold_9_first, training_sizes, \"threshold 9 first run\")"
   ]
  },
  {
   "cell_type": "code",
   "execution_count": 35,
   "metadata": {},
   "outputs": [
    {
     "data": {
      "image/png": "[encoded data removed]",
      "text/plain": [
       "<Figure size 432x288 with 1 Axes>"
      ]
     },
     "metadata": {
      "needs_background": "light"
     },
     "output_type": "display_data"
    }
   ],
   "source": [
    "plot_f1_scores(threshold_9_second, training_sizes, \"threshold 9 second run\")"
   ]
  }
 ],
 "metadata": {
  "kernelspec": {
   "display_name": "base",
   "language": "python",
   "name": "python3"
  },
  "language_info": {
   "codemirror_mode": {
    "name": "ipython",
    "version": 3
   },
   "file_extension": ".py",
   "mimetype": "text/x-python",
   "name": "python",
   "nbconvert_exporter": "python",
   "pygments_lexer": "ipython3",
   "version": "3.10.4"
  },
  "orig_nbformat": 4
 },
 "nbformat": 4,
 "nbformat_minor": 2
}
